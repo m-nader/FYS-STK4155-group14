{
 "cells": [
  {
   "cell_type": "markdown",
   "id": "330d4ea0",
   "metadata": {},
   "source": [
    "# FYS-STK4155 Exercises week 38\n",
    "\n",
    "## Exercise 1\n",
    "**a)** \n",
    "$$\\mathbb{E}[\\hat{\\beta}_{OLS}] = \\mathbb{E}[ (X^TX)^{-1}X^T \\boldsymbol{y}] = (X^TX)^{-1}X^T \\mathbb{E}[y] = (X^TX)^{-1}X^T X \\beta = \\beta  $$\n",
    "\n",
    "\n",
    "**b)** \n",
    "$$ Var[\\hat{\\beta}_{OLS}] =  \\mathbb{E}\\left[ \\left( \\beta - \\mathbb{E} \\left[ \\beta \\right] \\right)\\left( \\beta - \\mathbb{E}\\left[ \\beta \\right] \\right)^T \\right] = \\mathbb{E}\\left[ \\left( \\left(X^TX\\right)^{-1}X^T \\boldsymbol{y} - \\beta \\right) \\left( \\left(X^TX\\right)^{-1}X^T\\boldsymbol{y} - \\beta \\right)^T \\right] $$\n",
    "$$ = \\left(X^TX\\right)^{-1} X^T \\mathbb{E}\\left[ \\boldsymbol{y}\\boldsymbol{y}^T \\right] X\\left(X^TX\\right)^{-1} - \\beta\\beta^T $$\n",
    "$$ = \\left(X^TX\\right)^{-1} X^T \\left( X\\beta\\beta^TX^T + \\sigma^2 I \\right) X\\left(X^TX\\right)^{-1} - \\beta\\beta^T $$\n",
    "$$= \\left(X^TX\\right)^{-1} X^T  X\\beta\\beta^TX^T X\\left(X^TX\\right)^{-1} + \\sigma^2 \\left(X^TX\\right)^{-1} X^T X\\left(X^TX\\right)^{-1} - \\beta\\beta^T $$\n",
    "$$ = \\beta\\beta^T + \\sigma^2\\left(X^TX\\right)^{-1} - \\beta\\beta^T = \\sigma^2\\left(X^TX\\right)^{-1} $$\n",
    "\n"
   ]
  },
  {
   "cell_type": "markdown",
   "id": "c0dfe11b",
   "metadata": {},
   "source": [
    "## Exercise 2\n",
    "**a)**\n",
    "$$ \\mathbb{E}\\left[ \\hat{\\beta}_{Ridge} \\right] = \\mathbb{E}\\left[ \\left( X^TX + \\lambda I \\right)^{-1} X^T \\boldsymbol{y} \\right] = \\left(X^TX+ \\lambda I \\right)^{-1} X^T \\mathbb{E}\\left[\\boldsymbol{y}\\right] =  \\left(X^TX+ \\lambda I \\right)^{-1} \\left(X^TX\\right) \\beta$$\n",
    "\n",
    "**b)** \n",
    "$$\\hat{\\beta}_{Ridge} = \\left(X^TX+\\lambda I\\right)^{-1}X^T \\boldsymbol{y} = \\left(X^TX+\\lambda I\\right)^{-1}X^T X \\left(X^TX\\right)^{-1} X^T y = \\left(X^TX+\\lambda I\\right)^{-1}X^TX \\hat{\\beta}_{OLS} $$\n",
    "$$ Var\\left[ \\hat{\\beta}_{Ridge} \\right] = Var \\left[  \\left(X^TX+\\lambda I\\right)^{-1}X^TX \\hat{\\beta}_{OLS} \\right]   = \\left(X^TX+\\lambda I\\right)^{-1}X^TX Var\\left[ \\hat{\\beta}_{OLS} \\right] \\left( \\left(X^TX+\\lambda I\\right)^{-1}X^TX \\right)^T $$\n",
    "$$ = \\left(X^TX+\\lambda I\\right)^{-1}X^TX \\sigma^2\\left(X^TX\\right)^{-1} X^TX \\left( \\left( X^TX + \\lambda I \\right)^{-1} \\right)^T   $$\n",
    "$$ = \\sigma^2 \\left(X^TX + \\lambda I\\right)^{-1} X^TX \\left( \\left( X^TX + \\lambda I \\right)^{-1} \\right)^T $$"
   ]
  },
  {
   "cell_type": "markdown",
   "id": "5bf20c3b",
   "metadata": {},
   "source": [
    "## Exercise 3\n",
    "**a)** \n",
    "$$ \\mathbb{E}\\left[\\left( y-\\tilde{y} \\right)^2\\right] = \\mathbb{E} \\left[ y^2 - 2y\\tilde{y} + \\tilde{y}^2 \\right] = \\mathbb{E}\\left[y^2\\right] - 2 \\mathbb{E}\\left[ y\\tilde{y} \\right] + \\mathbb{E}\\left[\\tilde{y}\\right] $$\n",
    "\n",
    "$$ \\mathbb{E}\\left[ y^2 \\right] = \\mathbb{E}\\left[ \\left(f+\\epsilon \\right)^2 \\right] = \\mathbb{E}\\left[ f^2 \\right] + 2 \\mathbb{E}\\left[ f\\epsilon \\right] + \\mathbb{E}\\left[ \\epsilon^2 \\right] = f^2 + \\sigma^2 $$\n",
    "\n",
    "$$ \\mathbb{E}\\left[ y \\tilde{y} \\right] = \\mathbb{E}\\left[ (f+\\epsilon)\\tilde{y} \\right] = \\mathbb{E}\\left[f\\tilde{y} \\right] + \\mathbb{E}\\left[\\epsilon \\right] \\mathbb{E}\\left[\\tilde{y} \\right] = f \\mathbb{E}\\left[ \\tilde{y} \\right] $$\n",
    "\n",
    "$$ \\mathbb{E}\\left[ \\tilde{y}^2 \\right] = Var\\left[\\tilde{y}\\right] + \\left( \\mathbb{E}\\left[ \\tilde{y} \\right] \\right)^2$$\n",
    "\n",
    "<!--  \\mathbb{E}\\left[ \\right]  -->\n",
    "\n",
    "$$  \\mathbb{E}\\left[\\left( y-\\tilde{y} \\right)^2\\right] = f^2 + \\sigma^2 + 2 f \\mathbb{E}\\left[ \\tilde{y} \\right] + Var\\left[\\tilde{y}\\right] + \\left( \\mathbb{E}\\left[ \\tilde{y} \\right] \\right)^2$$\n",
    "$$ =  \\mathbb{E}\\left[ \\left(y +  \\mathbb{E}\\left[\\tilde{y} \\right]\\right)^2 \\right] + Var\\left[\\tilde{y}\\right] + \\sigma^2 $$\n",
    "$$ = Bias\\left[\\tilde{y}\\right] + Var\\left[\\tilde{y}\\right] + \\sigma^2 $$\n",
    "\n",
    "**b)**\n",
    "The MSE is a sum of the bias and variance of the model and the variance of the noise. \n"
   ]
  },
  {
   "cell_type": "markdown",
   "id": "0e4960ce",
   "metadata": {},
   "source": [
    "## Exercise 4\n",
    "**a)**\n"
   ]
  },
  {
   "cell_type": "code",
   "execution_count": 5,
   "id": "0fb60a33",
   "metadata": {},
   "outputs": [
    {
     "name": "stdout",
     "output_type": "stream",
     "text": [
      "MSE: 217.61638606194444\n",
      "Bias: 209.32248949610323\n",
      "Variance: 8.293715742709932\n",
      "MSE approx: 217.61620523881317, diff: 0.00018082313127365524\n"
     ]
    }
   ],
   "source": [
    "import numpy as np\n",
    "\n",
    "n = 100\n",
    "bootstraps = 1000\n",
    "\n",
    "predictions = np.random.rand(bootstraps, n) * 10 + 10\n",
    "# The definition of targets has been updated, and was wrong earlier in the week.\n",
    "targets = np.random.rand(1, n)\n",
    "\n",
    "mse = np.mean((targets-predictions)**2)\n",
    "bias = np.mean((targets - np.mean(predictions) )**2)\n",
    "variance = np.mean((predictions - np.mean(predictions))**2)\n",
    "\n",
    "print(f'MSE: {mse}')\n",
    "print(f'Bias: {bias}')\n",
    "print(f'Variance: {variance}')\n",
    "print(f'MSE approx: {bias+variance}, diff: {abs(mse - (bias+variance))}')"
   ]
  },
  {
   "cell_type": "markdown",
   "id": "bec875e6",
   "metadata": {},
   "source": [
    "**b)** increased bias by adding a larger number and decreased variance by multiplying with a smaller number"
   ]
  },
  {
   "cell_type": "code",
   "execution_count": 7,
   "id": "06cc71de",
   "metadata": {},
   "outputs": [
    {
     "name": "stdout",
     "output_type": "stream",
     "text": [
      "MSE: 366.6947749447419\n",
      "Bias: 359.96439964498245\n",
      "Variance: 6.725247327312007\n",
      "MSE approx: 366.68964697229444, diff: 0.005127972447439788\n"
     ]
    }
   ],
   "source": [
    "import numpy as np\n",
    "\n",
    "n = 100\n",
    "bootstraps = 1000\n",
    "\n",
    "predictions = np.random.rand(bootstraps, n) * 9 + 15\n",
    "# The definition of targets has been updated, and was wrong earlier in the week.\n",
    "targets = np.random.rand(1, n)\n",
    "\n",
    "mse = np.mean((targets-predictions)**2)\n",
    "bias = np.mean((targets - np.mean(predictions) )**2)\n",
    "variance = np.mean((predictions - np.mean(predictions))**2)\n",
    "\n",
    "print(f'MSE: {mse}')\n",
    "print(f'Bias: {bias}')\n",
    "print(f'Variance: {variance}')\n",
    "print(f'MSE approx: {bias+variance}, diff: {abs(mse - (bias+variance))}')"
   ]
  },
  {
   "cell_type": "markdown",
   "id": "bcf99cb8",
   "metadata": {},
   "source": [
    "**c)** Increased variance by multiplying with a number larger number than 10 and decreased bias by adding a smaller number than 10. "
   ]
  },
  {
   "cell_type": "code",
   "execution_count": 9,
   "id": "8108ba88",
   "metadata": {},
   "outputs": [
    {
     "name": "stdout",
     "output_type": "stream",
     "text": [
      "MSE: 178.98600084595137\n",
      "Bias: 168.87751320735603\n",
      "Variance: 10.107959753841904\n",
      "MSE approx: 178.98547296119793, diff: 0.0005278847534384568\n"
     ]
    }
   ],
   "source": [
    "import numpy as np\n",
    "\n",
    "n = 100\n",
    "bootstraps = 1000\n",
    "\n",
    "predictions = np.random.rand(bootstraps, n) * 11 + 8\n",
    "# The definition of targets has been updated, and was wrong earlier in the week.\n",
    "targets = np.random.rand(1, n)\n",
    "mse = np.mean((targets-predictions)**2)\n",
    "bias = np.mean((targets - np.mean(predictions) )**2)\n",
    "variance = np.mean((predictions - np.mean(predictions))**2)\n",
    "\n",
    "print(f'MSE: {mse}')\n",
    "print(f'Bias: {bias}')\n",
    "print(f'Variance: {variance}')\n",
    "print(f'MSE approx: {bias+variance}, diff: {abs(mse - (bias+variance))}')"
   ]
  },
  {
   "cell_type": "markdown",
   "id": "8107fa71",
   "metadata": {},
   "source": [
    "**d)** "
   ]
  },
  {
   "cell_type": "code",
   "execution_count": 11,
   "id": "70b07de9",
   "metadata": {},
   "outputs": [],
   "source": [
    "import numpy as np\n",
    "import matplotlib.pyplot as plt\n",
    "from sklearn.preprocessing import (\n",
    "    PolynomialFeatures,\n",
    ")  # use the fit_transform method of the created object!\n",
    "from sklearn.linear_model import LinearRegression\n",
    "from sklearn.metrics import mean_squared_error\n",
    "from sklearn.model_selection import train_test_split\n",
    "from sklearn.utils import resample"
   ]
  },
  {
   "cell_type": "code",
   "execution_count": 12,
   "id": "0caae71d",
   "metadata": {},
   "outputs": [],
   "source": [
    "def OLS_parameters(X, y):\n",
    "    return (np.linalg.inv(X.T @ X) @ X.T ) @ y"
   ]
  },
  {
   "cell_type": "code",
   "execution_count": 13,
   "id": "c345edb1",
   "metadata": {},
   "outputs": [
    {
     "data": {
      "text/plain": [
       "(0.0, 0.6)"
      ]
     },
     "execution_count": 13,
     "metadata": {},
     "output_type": "execute_result"
    },
    {
     "data": {
      "image/png": "[encoded data removed]",
      "text/plain": [
       "<Figure size 640x480 with 1 Axes>"
      ]
     },
     "metadata": {},
     "output_type": "display_data"
    }
   ],
   "source": [
    "n = 100\n",
    "bootstraps = 1000\n",
    "\n",
    "x = np.linspace(-3, 3, n).reshape(-1,1)\n",
    "y = np.exp(-(x**2)) + 1.5 * np.exp(-((x - 2) ** 2)) + np.random.normal(0, 0.1)\n",
    "\n",
    "biases = []\n",
    "variances = []\n",
    "mses = []\n",
    "\n",
    "degrees = range(1,14)\n",
    "\n",
    "for p in degrees:\n",
    "    n_test = 80\n",
    "    predictions = np.empty((n_test, bootstraps))\n",
    "    targets = np.empty((n_test,bootstraps))\n",
    "    poly = PolynomialFeatures(degree=p)\n",
    "    X = poly.fit_transform(x)\n",
    "    X_train, X_test, y_train, y_test = train_test_split(X, y, test_size=0.2)\n",
    "    for b in range(bootstraps):\n",
    "        X_train_re, y_train_re = resample(X_train, y_train)\n",
    "\n",
    "        beta = OLS_parameters(X_train_re, y_train_re)\n",
    "        y_tilde = X_train_re @ beta\n",
    "\n",
    "        # make predictions on the test data\n",
    "        predictions[:,b] = y_tilde.flatten()\n",
    "        targets[:,b] = y_train.flatten()\n",
    "\n",
    "    mse = mean_squared_error(targets, predictions)\n",
    "    bias = np.mean((targets - np.mean(predictions) )**2)\n",
    "    variance = np.mean((predictions - np.mean(predictions))**2)\n",
    "\n",
    "    biases.append(bias)\n",
    "    variances.append(variance)\n",
    "    mses.append(mse)\n",
    "\n",
    "plt.plot(degrees, mses, label='MSE')\n",
    "plt.plot(degrees, variances, label='Variance')\n",
    "plt.plot(degrees, biases, label='Bias')\n",
    "plt.xlabel('Polynomial degree')\n",
    "plt.legend()\n",
    "plt.ylim(0, 0.60)"
   ]
  },
  {
   "cell_type": "markdown",
   "id": "8e305122",
   "metadata": {},
   "source": [
    "**e)** Normally there should be a point where the bias and variance intersect. The bias should start higher, the point with the ideal number of parameters the MSE will have a minimum. After this point the variance will grow and the bias will shrink. "
   ]
  },
  {
   "cell_type": "code",
   "execution_count": 15,
   "id": "377a565f",
   "metadata": {},
   "outputs": [
    {
     "data": {
      "text/plain": [
       "(0.0, 0.6)"
      ]
     },
     "execution_count": 15,
     "metadata": {},
     "output_type": "execute_result"
    },
    {
     "data": {
      "image/png": "[encoded data removed]",
      "text/plain": [
       "<Figure size 640x480 with 1 Axes>"
      ]
     },
     "metadata": {},
     "output_type": "display_data"
    }
   ],
   "source": [
    "n = 100\n",
    "bootstraps = 1000\n",
    "\n",
    "x = np.linspace(-3, 3, n).reshape(-1,1)\n",
    "y = np.exp(-(x**2)) + 1.5 * np.exp(-((x - 2) ** 2)) + np.random.normal(0, 0.1)\n",
    "\n",
    "biases = []\n",
    "variances = []\n",
    "mses = []\n",
    "\n",
    "no_data = np.linspace(100, 2000, 38)\n",
    "p = 3\n",
    "\n",
    "for n in no_data:\n",
    "    n = int(n)\n",
    "    x = np.linspace(-3, 3, n).reshape(-1,1)\n",
    "    y = np.exp(-(x**2)) + 1.5 * np.exp(-((x - 2) ** 2)) + np.random.normal(0, 0.1)\n",
    "    n_test = int(n*.8)\n",
    "    predictions = np.empty((n_test, bootstraps))\n",
    "    targets = np.empty((n_test,bootstraps))\n",
    "    poly = PolynomialFeatures(degree=p)\n",
    "    X = poly.fit_transform(x)\n",
    "    X_train, X_test, y_train, y_test = train_test_split(X, y, test_size=0.2)\n",
    "    for b in range(bootstraps):\n",
    "        X_train_re, y_train_re = resample(X_train, y_train)\n",
    "\n",
    "        beta = OLS_parameters(X_train_re, y_train_re)\n",
    "        y_tilde = X_train_re @ beta\n",
    "\n",
    "        # make predictions on the test data\n",
    "        predictions[:,b] = y_tilde.flatten()\n",
    "        targets[:,b] = y_train.flatten()\n",
    "\n",
    "    mse = mean_squared_error(targets, predictions)\n",
    "    bias = np.mean((targets - np.mean(predictions) )**2)\n",
    "    variance = np.mean((predictions - np.mean(predictions))**2)\n",
    "\n",
    "    biases.append(bias)\n",
    "    variances.append(variance)\n",
    "    mses.append(mse)\n",
    "\n",
    "plt.plot(no_data, mses, label='MSE')\n",
    "plt.plot(no_data, variances, label='Variance')\n",
    "plt.plot(no_data, biases, label='Bias')\n",
    "plt.xlabel('Number of data points')\n",
    "plt.legend()\n",
    "plt.ylim(0, 0.60)"
   ]
  },
  {
   "cell_type": "markdown",
   "id": "01c8791d",
   "metadata": {},
   "source": [
    "## Exercise 5\n",
    "\n",
    "**a)** Scaling the data can make the inputs more suitable for the algorithms we use. If there are extreme values scaling can help us deal with them. \n",
    "\n",
    "**b)** OLS is linear\n",
    "\n",
    "**c)** The scaled $\\hat{\\beta}$ is not equal to the unscaled $\\hat{\\beta}$ in Ridge. \n",
    "\n",
    "**d)** Ridge is biased because $ \\mathbb{E}[\\hat{\\beta}] \\neq \\beta$ \n",
    "\n",
    "**f)** If scaling the data can make a model fit better R2 should not be independent of scaling. \n",
    "\n",
    "**g)** R2 score 0: the model is very bad, R2 score of 1: the model is very good and perfectly fits the data. R2 score of means that half of the variability in the model is accounted for. https://en.wikipedia.org/wiki/Coefficient_of_determination  \n",
    "\n",
    "**h)** The R2 score has a clearer interpretation. "
   ]
  },
  {
   "cell_type": "code",
   "execution_count": null,
   "id": "7cc7bd9c",
   "metadata": {},
   "outputs": [],
   "source": []
  }
 ],
 "metadata": {
  "kernelspec": {
   "display_name": "Python 3 (ipykernel)",
   "language": "python",
   "name": "python3"
  },
  "language_info": {
   "codemirror_mode": {
    "name": "ipython",
    "version": 3
   },
   "file_extension": ".py",
   "mimetype": "text/x-python",
   "name": "python",
   "nbconvert_exporter": "python",
   "pygments_lexer": "ipython3",
   "version": "3.12.4"
  }
 },
 "nbformat": 4,
 "nbformat_minor": 5
}
