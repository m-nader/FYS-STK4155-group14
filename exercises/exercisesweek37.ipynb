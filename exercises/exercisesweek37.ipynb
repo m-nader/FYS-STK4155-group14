{
 "cells": [
  {
   "cell_type": "markdown",
   "id": "1bb6823e",
   "metadata": {},
   "source": [
    "# FYS-STK4155 week 37\n",
    "\n",
    "## Exercise 1\n",
    "**a)** We do not need to center the $y$-values since these are of a similar scale."
   ]
  },
  {
   "cell_type": "code",
   "execution_count": 2,
   "id": "132afdc5",
   "metadata": {},
   "outputs": [],
   "source": [
    "import numpy as np\n",
    "import matplotlib.pyplot as plt\n",
    "from sklearn.model_selection import train_test_split\n",
    "from sklearn.linear_model import LinearRegression\n",
    "from sklearn.preprocessing import StandardScaler\n"
   ]
  },
  {
   "cell_type": "code",
   "execution_count": 3,
   "id": "378cec99",
   "metadata": {},
   "outputs": [],
   "source": [
    "n = 100\n",
    "x = np.linspace(-2, 2, n)\n",
    "y = 2 - x + 5*x**2"
   ]
  },
  {
   "cell_type": "code",
   "execution_count": 4,
   "id": "26ca189d",
   "metadata": {},
   "outputs": [],
   "source": [
    "def polynomial_features(x, p, intercept=False):\n",
    "    n = len(x)\n",
    "    if intercept:\n",
    "        X = np.zeros((n, p + 1))\n",
    "        X[:, 0] = 1.0\n",
    "        for i in range(1,p+1):\n",
    "            X[:, i] = x**i\n",
    "    else:\n",
    "        X = np.zeros((n, p))\n",
    "        for i in range(1,p+1):\n",
    "            X[:,i-1] = x**i\n",
    "    return X"
   ]
  },
  {
   "cell_type": "code",
   "execution_count": 5,
   "id": "e09bacdd",
   "metadata": {},
   "outputs": [],
   "source": [
    "X = polynomial_features(x, 2)"
   ]
  },
  {
   "cell_type": "code",
   "execution_count": 6,
   "id": "18bfa38d",
   "metadata": {},
   "outputs": [],
   "source": [
    "# Standardize features (zero mean, unit variance for each feature)\n",
    "X_mean = X.mean(axis=0)\n",
    "X_std = X.std(axis=0)\n",
    "X_std[X_std == 0] = 1  # safeguard to avoid division by zero for constant features\n",
    "X_norm = (X - X_mean) / X_std\n",
    "\n",
    "# Center the target to zero mean (optional, to simplify intercept handling)\n",
    "y_mean = np.mean(y)\n",
    "y_centered = y - y_mean"
   ]
  },
  {
   "cell_type": "markdown",
   "id": "3e234973",
   "metadata": {},
   "source": [
    "## Exercise 2\n",
    "\n",
    "Ordinary least squares: $ \\frac{2}{n} \\left(X^T X \\theta - X^T y\\right) $\n",
    "\n",
    "Ridge: $ \\frac{2}{n} \\left( X^T X \\theta - X^T y \\right) + \\lambda 2 \\theta $"
   ]
  },
  {
   "cell_type": "markdown",
   "id": "8db97f11",
   "metadata": {},
   "source": [
    "## Exercise 3\n",
    "**a)**"
   ]
  },
  {
   "cell_type": "code",
   "execution_count": 9,
   "id": "cb72eb5a",
   "metadata": {},
   "outputs": [
    {
     "name": "stdout",
     "output_type": "stream",
     "text": [
      "Closed-form Ridge coefficients: [-1.1662942   6.08233604]\n",
      "Closed-form OLS coefficients: [-1.16630586  6.08239686]\n"
     ]
    }
   ],
   "source": [
    "# Set regularization parameter, either a single value or a vector of values\n",
    "lam = 0.001\n",
    "\n",
    "\n",
    "# Analytical form for OLS and Ridge solution: theta_Ridge = (X^T X + lambda * I)^{-1} X^T y and theta_OLS = (X^T X)^{-1} X^T y\n",
    "I = np.eye((X_norm.T@X_norm).shape[0]) # I same shape as X^T X\n",
    "theta_closed_formRidge = np.linalg.inv( X_norm.T @ X_norm + lam * I ) @ X_norm.T @ y_centered\n",
    "theta_closed_formOLS = np.linalg.inv(X_norm.T @ X_norm) @ X_norm.T @ y_centered\n",
    "\n",
    "print(\"Closed-form Ridge coefficients:\", theta_closed_formRidge)\n",
    "print(\"Closed-form OLS coefficients:\", theta_closed_formOLS)"
   ]
  },
  {
   "cell_type": "markdown",
   "id": "2c0349f9",
   "metadata": {},
   "source": [
    "**b)**"
   ]
  },
  {
   "cell_type": "code",
   "execution_count": 11,
   "id": "40d72c2b",
   "metadata": {},
   "outputs": [
    {
     "data": {
      "text/plain": [
       "<matplotlib.legend.Legend at 0x15de66270>"
      ]
     },
     "execution_count": 11,
     "metadata": {},
     "output_type": "execute_result"
    },
    {
     "data": {
      "image/png": "[encoded data removed]",
      "text/plain": [
       "<Figure size 640x480 with 1 Axes>"
      ]
     },
     "metadata": {},
     "output_type": "display_data"
    }
   ],
   "source": [
    "from sklearn.metrics import mean_squared_error\n",
    "\n",
    "\n",
    "lambdas = np.logspace(-5, -1, 10)\n",
    "mse_ridge = []\n",
    "mse_ols = []\n",
    "\n",
    "for lmb in lambdas:\n",
    "    I = np.eye((X_norm.T@X_norm).shape[0]) # I same shape as X^T X\n",
    "    theta_closed_formRidge = np.linalg.inv( X_norm.T @ X_norm + lmb * I ) @ X_norm.T @ y_centered\n",
    "    mse_r = mean_squared_error(y_centered, X_norm @ theta_closed_formRidge)\n",
    "    mse_ridge.append(mse_r)\n",
    "\n",
    "\n",
    "plt.plot(lambdas, mse_ridge, label='MSE ridge')\n",
    "plt.xlabel('Lambda')\n",
    "plt.ylabel('Mean Squared Error')\n",
    "plt.legend()"
   ]
  },
  {
   "cell_type": "markdown",
   "id": "c234bee7",
   "metadata": {},
   "source": [
    "## Exercise 4\n",
    "**a)** When I set the learning rate too high (e.g. 0.5 here) it misses the minimum of the cost function. When I set it too small the loop stopped before the local minimum was found. A too small learning rate means we start with steps that are too tiny to reach the minimum within our predefined number of runs. Too large a learning rate can lead to overshooting the minumum and getting lost. \n",
    "\n",
    "**b)** Define the stopping criterion when $\\eta g $ is less than the predefined $\\epsilon$ "
   ]
  },
  {
   "cell_type": "code",
   "execution_count": 13,
   "id": "8cb39ef9",
   "metadata": {},
   "outputs": [
    {
     "name": "stdout",
     "output_type": "stream",
     "text": [
      "Gradient Descent OLS coefficients: [-1.16630586  6.08239686]\n",
      "Gradient Descent Ridge coefficients: [-1.16514072  6.07632054]\n"
     ]
    }
   ],
   "source": [
    "# Gradient descent parameters, learning rate eta first\n",
    "eta = 0.1\n",
    "# Then number of iterations\n",
    "num_iters = 1000\n",
    "\n",
    "# Initialize weights for gradient descent\n",
    "theta = np.zeros(2)\n",
    "\n",
    "theta_gdOLS =  theta.copy()\n",
    "theta_gdRidge = theta.copy()\n",
    "eps = 1e-4\n",
    "\n",
    "t=0\n",
    "grad_OLS = 2.0/n * (X_norm.T @  X_norm @ (theta_gdOLS) - X_norm.T @ y_centered)\n",
    "grad_Ridge = 2.0/n* (X_norm.T @ X_norm @ (theta_gdRidge) - X_norm.T @ y_centered)+ 2*lam*theta_gdRidge\n",
    "\n",
    "# Gradient descent loop\n",
    "while t <= num_iters and len(eta*grad_OLS) > eps and len(eta*grad_Ridge)> eps:\n",
    "    # Compute gradients for OSL and Ridge\n",
    "    grad_OLS = 2.0/n * (X_norm.T @  X_norm @ (theta_gdOLS) - X_norm.T @ y_centered)\n",
    "    grad_Ridge = 2.0/n* (X_norm.T @ X_norm @ (theta_gdRidge) - X_norm.T @ y_centered)+ 2*lam*theta_gdRidge\n",
    "    # Update parameters theta\n",
    "    theta_gdOLS += - eta*grad_OLS\n",
    "    theta_gdRidge += - eta * grad_Ridge\n",
    "    t+=1\n",
    "\n",
    "# After the loop, theta contains the fitted coefficients\n",
    "# theta_gdOLS = ?\n",
    "# theta_gdRidge = ?\n",
    "print(\"Gradient Descent OLS coefficients:\", theta_gdOLS)\n",
    "print(\"Gradient Descent Ridge coefficients:\", theta_gdRidge)\n"
   ]
  },
  {
   "cell_type": "markdown",
   "id": "b0faa9a8",
   "metadata": {},
   "source": [
    "## Exercise 5\n",
    "\n",
    "The learned coefficients are close for both OLS and Ridge with gradient descent, but Ridge is closest to the correct coefficients. "
   ]
  },
  {
   "cell_type": "code",
   "execution_count": 15,
   "id": "09114401",
   "metadata": {},
   "outputs": [],
   "source": [
    "import numpy as np\n",
    "\n",
    "# Set random seed for reproducibility\n",
    "np.random.seed(0)\n",
    "\n",
    "# Define dataset size\n",
    "n_samples = 100\n",
    "n_features = 10\n",
    "\n",
    "# Define true coefficients (sparse linear relationship)\n",
    "theta_true = np.array([5.0, -3.0, 0.0, 0.0, 0.0, 0.0, 2.0, 0.0, 0.0, 0.0])\n",
    "\n",
    "# Generate feature matrix X (n_samples x n_features) with random values\n",
    "X = np.random.randn(n_samples, n_features)  # standard normal distribution\n",
    "\n",
    "# Generate target values y with a linear combination of X and theta_true, plus noise\n",
    "noise = 0.5 * np.random.randn(n_samples)  # Gaussian noise\n",
    "y = X @ theta_true + noise"
   ]
  },
  {
   "cell_type": "code",
   "execution_count": 16,
   "id": "38f9c0e6",
   "metadata": {},
   "outputs": [
    {
     "name": "stdout",
     "output_type": "stream",
     "text": [
      "Gradient Descent OLS coefficients: [ 5.00905318e+00 -3.00383337e+00 -1.62718294e-02  1.44819819e-01\n",
      " -7.16006510e-02 -4.29656382e-02  2.05558117e+00  1.97583716e-03\n",
      "  4.11922237e-02 -5.10225177e-02]\n",
      "Gradient Descent Ridge coefficients: [ 5.00410898e+00 -2.99968373e+00 -1.63065915e-02  1.45477818e-01\n",
      " -7.25435409e-02 -4.37776623e-02  2.05285140e+00  2.26563823e-03\n",
      "  4.02214213e-02 -5.10893259e-02]\n"
     ]
    }
   ],
   "source": [
    "# Gradient descent parameters, learning rate eta first\n",
    "eta = 0.1\n",
    "# Then number of iterations\n",
    "num_iters = 1000\n",
    "\n",
    "# Initialize weights for gradient descent\n",
    "theta = np.zeros(10)\n",
    "\n",
    "theta_gdOLS =  theta.copy()\n",
    "theta_gdRidge = theta.copy()\n",
    "eps = 1e-4\n",
    "\n",
    "t=0\n",
    "# Gradient descent loop\n",
    "while t <= num_iters and len(eta*grad_OLS) > eps and len(eta*grad_Ridge)> eps:\n",
    "    # Compute gradients for OSL and Ridge\n",
    "    grad_OLS = 2.0/n * (X.T @  X @ (theta_gdOLS) - X.T @ y)\n",
    "    grad_Ridge = 2.0/n* (X.T @ X @ (theta_gdRidge) - X.T @ y)+2*lam*theta_gdRidge\n",
    "    # Update parameters theta\n",
    "    theta_gdOLS += - eta*grad_OLS\n",
    "    theta_gdRidge += - eta * grad_Ridge\n",
    "    t+=1\n",
    "\n",
    "# After the loop, theta contains the fitted coefficients\n",
    "# theta_gdOLS = ?\n",
    "# theta_gdRidge = ?\n",
    "print(\"Gradient Descent OLS coefficients:\", theta_gdOLS)\n",
    "print(\"Gradient Descent Ridge coefficients:\", theta_gdRidge)"
   ]
  },
  {
   "cell_type": "code",
   "execution_count": null,
   "id": "76956293",
   "metadata": {},
   "outputs": [],
   "source": []
  }
 ],
 "metadata": {
  "kernelspec": {
   "display_name": "Python 3 (ipykernel)",
   "language": "python",
   "name": "python3"
  },
  "language_info": {
   "codemirror_mode": {
    "name": "ipython",
    "version": 3
   },
   "file_extension": ".py",
   "mimetype": "text/x-python",
   "name": "python",
   "nbconvert_exporter": "python",
   "pygments_lexer": "ipython3",
   "version": "3.12.4"
  }
 },
 "nbformat": 4,
 "nbformat_minor": 5
}
