{
 "cells": [
  {
   "cell_type": "markdown",
   "id": "1da77599",
   "metadata": {},
   "source": [
    "# Exercises week 38\n",
    "\n",
    "## September 15-19\n",
    "\n",
    "## Resampling and the Bias-Variance Trade-off\n"
   ]
  },
  {
   "cell_type": "markdown",
   "id": "6a732496",
   "metadata": {},
   "source": []
  },
  {
   "cell_type": "markdown",
   "id": "e9f27b0e",
   "metadata": {},
   "source": [
    "### Learning goals\n",
    "\n",
    "After completing these exercises, you will know how to\n",
    "\n",
    "- Derive expectation and variances values related to linear regression\n",
    "- Compute expectation and variances values related to linear regression\n",
    "- Compute and evaluate the trade-off between bias and variance of a model\n",
    "\n",
    "### Deliverables\n",
    "\n",
    "Complete the following exercises while working in a jupyter notebook. Then, in canvas, include\n",
    "\n",
    "- The jupyter notebook with the exercises completed\n",
    "- An exported PDF of the notebook (https://code.visualstudio.com/docs/datascience/jupyter-notebooks#_export-your-jupyter-notebook)\n"
   ]
  },
  {
   "cell_type": "markdown",
   "id": "984af8e3",
   "metadata": {},
   "source": [
    "## Use the books!\n",
    "\n",
    "This week deals with various mean values and variances in linear regression methods (here it may be useful to look up chapter 3, equation (3.8) of [Trevor Hastie, Robert Tibshirani, Jerome H. Friedman, The Elements of Statistical Learning, Springer](https://www.springer.com/gp/book/9780387848570)).\n",
    "\n",
    "For more discussions on Ridge regression and calculation of expectation values, [Wessel van Wieringen's](https://arxiv.org/abs/1509.09169) article is highly recommended.\n",
    "\n",
    "The exercises this week are also a part of project 1 and can be reused in the theory part of the project.\n",
    "\n",
    "### Definitions\n",
    "\n",
    "We assume that there exists a continuous function $f(\\boldsymbol{x})$ and a normal distributed error $\\boldsymbol{\\varepsilon}\\sim N(0, \\sigma^2)$ which describes our data\n"
   ]
  },
  {
   "cell_type": "markdown",
   "id": "c16f7d0e",
   "metadata": {},
   "source": [
    "$$\n",
    "\\boldsymbol{y} = f(\\boldsymbol{x})+\\boldsymbol{\\varepsilon}\n",
    "$$\n"
   ]
  },
  {
   "cell_type": "markdown",
   "id": "9fcf981a",
   "metadata": {
    "vscode": {
     "languageId": "plaintext"
    }
   },
   "source": [
    "We further assume that this continous function can be modeled with a linear model $\\mathbf{\\tilde{y}}$ of some features $\\mathbf{X}$.\n"
   ]
  },
  {
   "cell_type": "markdown",
   "id": "d4189366",
   "metadata": {},
   "source": [
    "$$\n",
    "\\boldsymbol{y} = \\boldsymbol{\\tilde{y}} + \\boldsymbol{\\varepsilon} = \\boldsymbol{X}\\boldsymbol{\\beta} +\\boldsymbol{\\varepsilon}\n",
    "$$\n"
   ]
  },
  {
   "cell_type": "markdown",
   "id": "f4fca21b",
   "metadata": {},
   "source": [
    "We therefore get that our data $\\boldsymbol{y}$ has an expectation value $\\boldsymbol{X}\\boldsymbol{\\beta}$ and variance $\\sigma^2$, that is $\\boldsymbol{y}$ follows a normal distribution with mean value $\\boldsymbol{X}\\boldsymbol{\\beta}$ and variance $\\sigma^2$.\n"
   ]
  },
  {
   "cell_type": "markdown",
   "id": "5de0c7e6",
   "metadata": {},
   "source": [
    "## Exercise 1: Expectation values for ordinary least squares expressions\n"
   ]
  },
  {
   "cell_type": "markdown",
   "id": "d878c699",
   "metadata": {},
   "source": [
    "**a)** With the expressions for the optimal parameters $\\boldsymbol{\\hat{\\beta}_{OLS}}$ show that\n"
   ]
  },
  {
   "cell_type": "markdown",
   "id": "08b7007d",
   "metadata": {},
   "source": [
    "$$\n",
    "\\mathbb{E}(\\boldsymbol{\\hat{\\beta}_{OLS}}) = \\boldsymbol{\\beta}.\n",
    "$$\n"
   ]
  },
  {
   "cell_type": "markdown",
   "id": "253e19ed",
   "metadata": {},
   "source": [
    "ANSWER:\n",
    "\n",
    "The OLS parameters are given by:\n",
    "$$\n",
    "\\hat{\\boldsymbol{\\beta}}_{\\text{OLS}} = (\\boldsymbol{X}^T \\boldsymbol{X})^{-1} \\boldsymbol{X}^T \\boldsymbol{y}\n",
    "$$\n",
    "\n",
    "Substituting the value of $\\boldsymbol{y}$, we get:\n",
    "$$\n",
    "\\hat{\\boldsymbol{\\beta}}_{\\text{OLS}} = (\\boldsymbol{X}^T \\boldsymbol{X})^{-1} \\boldsymbol{X}^T \\boldsymbol{X} \\boldsymbol{\\beta} + (\\boldsymbol{X}^T \\boldsymbol{X})^{-1} \\boldsymbol{X}^T \\boldsymbol{\\epsilon}\n",
    "$$\n",
    "\n",
    "Since $(\\boldsymbol{X}^T \\boldsymbol{X})^{-1} \\boldsymbol{X}^T \\boldsymbol{X}$ is equal to the identity matrix:\n",
    "$$\n",
    "\\hat{\\boldsymbol{\\beta}}_{\\text{OLS}} = \\boldsymbol{\\beta} + (\\boldsymbol{X}^T \\boldsymbol{X})^{-1} \\boldsymbol{X}^T \\boldsymbol{\\epsilon}\n",
    "$$\n",
    "\n",
    "Taking the expextation os both sides, we get:\n",
    "$$\n",
    "\\mathbb{E}(\\hat{\\boldsymbol{\\beta}}_{\\text{OLS}}) = \\mathbb{E}\\left(\\boldsymbol{\\beta} + (\\boldsymbol{X}^T \\boldsymbol{X})^{-1} \\boldsymbol{X}^T \\boldsymbol{\\epsilon}\\right)\n",
    "$$\n",
    "\n",
    "Since the expectation value of a constant vector is the vector itself:\n",
    "$$\n",
    "\\mathbb{E}(\\hat{\\boldsymbol{\\beta}}_{\\text{OLS}}) = \\boldsymbol{\\beta} + \\mathbb{E}\\left((\\boldsymbol{X}^T \\boldsymbol{X})^{-1} \\boldsymbol{X}^T \\boldsymbol{\\epsilon}\\right)\n",
    "$$\n",
    "\n",
    "We have that $\\boldsymbol{\\varepsilon}\\sim N(0, \\sigma^2)$, so it's expectation value is zero.\n",
    "$$\n",
    "\\mathbb{E}\\left((\\boldsymbol{X}^T \\boldsymbol{X})^{-1} \\boldsymbol{X}^T \\boldsymbol{\\epsilon}\\right) = (\\boldsymbol{X}^T \\boldsymbol{X})^{-1} \\boldsymbol{X}^T \\mathbb{E}(\\boldsymbol{\\epsilon}) = (\\boldsymbol{X}^T \\boldsymbol{X})^{-1} \\boldsymbol{X}^T \\boldsymbol{0} = \\boldsymbol{0}\n",
    "$$\n",
    "\n",
    "So, we are left with:\n",
    "$$\n",
    "\\mathbb{E}(\\hat{\\boldsymbol{\\beta}}_{\\text{OLS}}) = \\boldsymbol{\\beta} + \\boldsymbol{0} = \\boldsymbol{\\beta}\n",
    "$$"
   ]
  },
  {
   "cell_type": "markdown",
   "id": "46e93394",
   "metadata": {},
   "source": [
    "**b)** Show that the variance of $\\boldsymbol{\\hat{\\beta}_{OLS}}$ is\n"
   ]
  },
  {
   "cell_type": "markdown",
   "id": "be1b65be",
   "metadata": {},
   "source": [
    "$$\n",
    "\\mathbf{Var}(\\boldsymbol{\\hat{\\beta}_{OLS}}) = \\sigma^2 \\, (\\mathbf{X}^{T} \\mathbf{X})^{-1}.\n",
    "$$\n"
   ]
  },
  {
   "cell_type": "markdown",
   "id": "d2143684",
   "metadata": {},
   "source": [
    "We can use the last expression when we define a [confidence interval](https://en.wikipedia.org/wiki/Confidence_interval) for the parameters $\\boldsymbol{\\hat{\\beta}_{OLS}}$.\n",
    "A given parameter ${\\boldsymbol{\\hat{\\beta}_{OLS}}}_j$ is given by the diagonal matrix element of the above matrix.\n"
   ]
  },
  {
   "cell_type": "markdown",
   "id": "cb1309cd",
   "metadata": {},
   "source": [
    "ANSWER:\n",
    "\n",
    "Starting from:\n",
    "$$\n",
    "\\hat{\\boldsymbol{\\beta}}_{\\text{OLS}} = \\boldsymbol{\\beta} + (\\boldsymbol{X}^T \\boldsymbol{X})^{-1} \\boldsymbol{X}^T \\boldsymbol{\\epsilon}\n",
    "$$\n",
    "\n",
    "Taking the variance of both sides:\n",
    "$$\n",
    "\\mathrm{Var}(\\hat{\\boldsymbol{\\beta}}_{\\text{OLS}}) = \\mathrm{Var}\\left((\\boldsymbol{X}^T \\boldsymbol{X})^{-1} \\boldsymbol{X}^T \\boldsymbol{\\epsilon}\\right)\n",
    "$$\n",
    "\n",
    "Since:\n",
    "$$\n",
    "\\mathrm{Var}(A\\boldsymbol{z}) = A \\mathrm{Var}(\\boldsymbol{z}) A^T,\n",
    "$$\n",
    "\n",
    "We have that the variance is:\n",
    "$$\n",
    "\\mathrm{Var}(\\hat{\\boldsymbol{\\beta}}_{\\text{OLS}}) = (\\boldsymbol{X}^T \\boldsymbol{X})^{-1} \\boldsymbol{X}^T \\mathrm{Var}(\\boldsymbol{\\epsilon}) \\boldsymbol{X} (\\boldsymbol{X}^T \\boldsymbol{X})^{-1} \n",
    "$$\n",
    "\n",
    "Looking into $\\mathrm{Var}(\\boldsymbol{\\epsilon})$:\n",
    "$$\n",
    "\\mathrm{Var}(\\boldsymbol{\\epsilon}) = \\sigma^2 \\boldsymbol{I}\n",
    "$$\n",
    "\n",
    "So:\n",
    "$$\n",
    "\\mathrm{Var}(\\hat{\\boldsymbol{\\beta}}_{\\text{OLS}}) = (\\boldsymbol{X}^T \\boldsymbol{X})^{-1} \\boldsymbol{X}^T (\\sigma^2 \\boldsymbol{I}) \\boldsymbol{X} (\\boldsymbol{X}^T \\boldsymbol{X})^{-1}\n",
    "$$\n",
    "\n",
    "Simplifying it:\n",
    "$$\n",
    "\\mathrm{Var}(\\hat{\\boldsymbol{\\beta}}_{\\text{OLS}}) = \\sigma^2 (\\boldsymbol{X}^T \\boldsymbol{X})^{-1} \\boldsymbol{X}^T \\boldsymbol{X} (\\boldsymbol{X}^T \\boldsymbol{X})^{-1}\n",
    "$$\n",
    "$$\n",
    "\\mathrm{Var}(\\hat{\\boldsymbol{\\beta}}_{\\text{OLS}}) = \\sigma^2 (\\boldsymbol{X}^T \\boldsymbol{X})^{-1}\n",
    "$$"
   ]
  },
  {
   "cell_type": "markdown",
   "id": "f5c2dc22",
   "metadata": {},
   "source": [
    "## Exercise 2: Expectation values for Ridge regression\n"
   ]
  },
  {
   "cell_type": "markdown",
   "id": "3893e3e7",
   "metadata": {},
   "source": [
    "**a)** With the expressions for the optimal parameters $\\boldsymbol{\\hat{\\beta}_{Ridge}}$ show that\n"
   ]
  },
  {
   "cell_type": "markdown",
   "id": "79dc571f",
   "metadata": {},
   "source": [
    "$$\n",
    "\\mathbb{E} \\big[ \\hat{\\boldsymbol{\\beta}}^{\\mathrm{Ridge}} \\big]=(\\mathbf{X}^{T} \\mathbf{X} + \\lambda \\mathbf{I}_{pp})^{-1} (\\mathbf{X}^{\\top} \\mathbf{X})\\boldsymbol{\\beta}\n",
    "$$\n"
   ]
  },
  {
   "cell_type": "markdown",
   "id": "028209a1",
   "metadata": {},
   "source": [
    "We see that $\\mathbb{E} \\big[ \\hat{\\boldsymbol{\\beta}}^{\\mathrm{Ridge}} \\big] \\not= \\mathbb{E} \\big[\\hat{\\boldsymbol{\\beta}}^{\\mathrm{OLS}}\\big ]$ for any $\\lambda > 0$.\n"
   ]
  },
  {
   "cell_type": "markdown",
   "id": "56afe1ba",
   "metadata": {},
   "source": [
    "ANSWER:\n",
    "\n",
    "The Ridge parameters are given by:\n",
    "$$\n",
    "\\hat{\\boldsymbol{\\beta}}^{\\text{Ridge}} = \\left(\\boldsymbol{X}^T \\boldsymbol{X} + \\lambda \\boldsymbol{I}{pp}\\right)^{-1} \\boldsymbol{X}^T \\boldsymbol{y}\n",
    "$$\n",
    "\n",
    "Substituting $\\boldsymbol{y}$:\n",
    "$$\n",
    "\\hat{\\boldsymbol{\\beta}}^{\\text{Ridge}} = \\left(\\boldsymbol{X}^T \\boldsymbol{X} + \\lambda \\boldsymbol{I}{pp}\\right)^{-1} \\boldsymbol{X}^T \\left( \\boldsymbol{X} \\boldsymbol{\\beta} + \\boldsymbol{\\epsilon} \\right)\n",
    "$$\n",
    "$$\n",
    "\\hat{\\boldsymbol{\\beta}}^{\\text{Ridge}} = \\left(\\boldsymbol{X}^T \\boldsymbol{X} + \\lambda \\boldsymbol{I}{pp}\\right)^{-1} \\left(\\boldsymbol{X}^T \\boldsymbol{X} \\boldsymbol{\\beta} + \\boldsymbol{X}^T \\boldsymbol{\\epsilon}\\right)\n",
    "$$\n",
    "\n",
    "Taking the expectation of both sides:\n",
    "$$\n",
    "\\mathbb{E}[\\hat{\\boldsymbol{\\beta}}^{\\text{Ridge}}] = \\left(\\boldsymbol{X}^T \\boldsymbol{X} + \\lambda \\boldsymbol{I}{pp}\\right)^{-1} \\left( \\mathbb{E}[\\boldsymbol{X}^T \\boldsymbol{X} \\boldsymbol{\\beta}] + \\mathbb{E}[\\boldsymbol{X}^T \\boldsymbol{\\epsilon}] \\right)\n",
    "$$\n",
    "\n",
    "Since the expectation value of a constant vector is the vector itself and the expectation value of $\\boldsymbol{\\epsilon}$ is zero:\n",
    "$$\n",
    "\\mathbb{E}[\\hat{\\boldsymbol{\\beta}}^{\\text{Ridge}}] = \\left(\\boldsymbol{X}^T \\boldsymbol{X} + \\lambda \\boldsymbol{I}{pp}\\right)^{-1} \\left(\\boldsymbol{X}^T \\boldsymbol{X}\\right) \\boldsymbol{\\beta}\n",
    "$$"
   ]
  },
  {
   "cell_type": "markdown",
   "id": "b4e721fc",
   "metadata": {},
   "source": [
    "**b)** Show that the variance is\n"
   ]
  },
  {
   "cell_type": "markdown",
   "id": "090eb1e1",
   "metadata": {},
   "source": [
    "$$\n",
    "\\mathbf{Var}[\\hat{\\boldsymbol{\\beta}}^{\\mathrm{Ridge}}]=\\sigma^2[  \\mathbf{X}^{T} \\mathbf{X} + \\lambda \\mathbf{I} ]^{-1}  \\mathbf{X}^{T}\\mathbf{X} \\{ [  \\mathbf{X}^{\\top} \\mathbf{X} + \\lambda \\mathbf{I} ]^{-1}\\}^{T}\n",
    "$$\n"
   ]
  },
  {
   "cell_type": "markdown",
   "id": "6b8e8697",
   "metadata": {},
   "source": [
    "We see that if the parameter $\\lambda$ goes to infinity then the variance of the Ridge parameters $\\boldsymbol{\\beta}$ goes to zero.\n"
   ]
  },
  {
   "cell_type": "markdown",
   "id": "3d4616c8",
   "metadata": {},
   "source": [
    "ANSWER:\n",
    "\n",
    "Starting from:\n",
    "$$\n",
    "\\hat{\\boldsymbol{\\beta}}_{\\text{Ridge}} = \\left(\\boldsymbol{X}^T \\boldsymbol{X} + \\lambda \\boldsymbol{I}\\right)^{-1} \\left(\\boldsymbol{X}^T \\boldsymbol{X} \\boldsymbol{\\beta} + \\boldsymbol{X}^T \\boldsymbol{\\epsilon}\\right)\n",
    "$$\n",
    "\n",
    "We have:\n",
    "$$\n",
    "\\hat{\\boldsymbol{\\beta}}_{\\text{Ridge}} = \\left(\\boldsymbol{X}^T \\boldsymbol{X} + \\lambda \\boldsymbol{I}\\right)^{-1} \\boldsymbol{X}^T \\boldsymbol{X} \\boldsymbol{\\beta} + \\left(\\boldsymbol{X}^T \\boldsymbol{X} + \\lambda \\boldsymbol{I}\\right)^{-1} \\boldsymbol{X}^T \\boldsymbol{\\epsilon}\n",
    "$$\n",
    "\n",
    "Taking the variance on both sides:\n",
    "$$\n",
    "\\mathrm{Var}[\\hat{\\boldsymbol{\\beta}}_{\\text{Ridge}}] = \\mathrm{Var}\\left[\\left(\\boldsymbol{X}^T \\boldsymbol{X} + \\lambda \\boldsymbol{I}\\right)^{-1} \\boldsymbol{X}^T \\boldsymbol{\\epsilon}\\right]\n",
    "$$\n",
    "\n",
    "Applying:\n",
    "$$\n",
    "\\mathrm{Var}[\\mathbf{A} \\boldsymbol{z}] = \\mathbf{A} \\mathrm{Var}[\\boldsymbol{z}] \\mathbf{A}^T\n",
    "$$\n",
    "\n",
    "We get:\n",
    "$$\n",
    "\\mathrm{Var}[\\hat{\\boldsymbol{\\beta}}_{\\text{Ridge}}] = \\left(\\boldsymbol{X}^T \\boldsymbol{X} + \\lambda \\boldsymbol{I}\\right)^{-1} \\boldsymbol{X}^T \\mathrm{Var}[\\boldsymbol{\\epsilon}] \\boldsymbol{X} \\left[\\left(\\mathbf{X}^{T} \\mathbf{X} + \\lambda \\mathbf{I}\\right)^{-1}\\right]^T\n",
    "$$\n",
    "\n",
    "Again, since $\\mathrm{Var}[\\boldsymbol{\\epsilon}] = \\sigma^2 \\mathbf{I}$:\n",
    "$$\n",
    "\\mathrm{Var}[\\hat{\\boldsymbol{\\beta}}_{\\text{Ridge}}] = \\left(\\boldsymbol{X}^T \\boldsymbol{X} + \\lambda \\boldsymbol{I}\\right)^{-1} \\boldsymbol{X}^T (\\sigma^2 \\mathbf{I}) \\boldsymbol{X} \\left[\\left(\\mathbf{X}^{T} \\mathbf{X} + \\lambda \\mathbf{I}\\right)^{-1}\\right]^T\n",
    "$$\n",
    "\n",
    "Simplifying it:\n",
    "$$\n",
    "\\mathrm{Var}[\\hat{\\boldsymbol{\\beta}}^{\\mathrm{Ridge}}] = \\sigma^2 \\left[\\mathbf{X}^{T} \\mathbf{X} + \\lambda \\mathbf{I}\\right]^{-1} \\mathbf{X}^{T} \\mathbf{X} \\left[\\left(\\mathbf{X}^{T} \\mathbf{X} + \\lambda \\mathbf{I}\\right)^{-1}\\right]^T\n",
    "$$"
   ]
  },
  {
   "cell_type": "markdown",
   "id": "74bc300b",
   "metadata": {},
   "source": [
    "## Exercise 3: Deriving the expression for the Bias-Variance Trade-off\n"
   ]
  },
  {
   "cell_type": "markdown",
   "id": "eeb86010",
   "metadata": {},
   "source": [
    "The aim of this exercise is to derive the equations for the bias-variance tradeoff to be used in project 1.\n",
    "\n",
    "The parameters $\\boldsymbol{\\hat{\\beta}_{OLS}}$ are found by optimizing the mean squared error via the so-called cost function\n"
   ]
  },
  {
   "cell_type": "markdown",
   "id": "522a0d1d",
   "metadata": {},
   "source": [
    "$$\n",
    "C(\\boldsymbol{X},\\boldsymbol{\\beta}) =\\frac{1}{n}\\sum_{i=0}^{n-1}(y_i-\\tilde{y}_i)^2=\\mathbb{E}\\left[(\\boldsymbol{y}-\\boldsymbol{\\tilde{y}})^2\\right]\n",
    "$$\n"
   ]
  },
  {
   "cell_type": "markdown",
   "id": "831db06c",
   "metadata": {},
   "source": [
    "**a)** Show that you can rewrite this into an expression which contains\n",
    "\n",
    "- the variance of the model (the variance term)\n",
    "- the expected deviation of the mean of the model from the true data (the bias term)\n",
    "- the variance of the noise\n",
    "\n",
    "In other words, show that:\n"
   ]
  },
  {
   "cell_type": "markdown",
   "id": "8cc52b3c",
   "metadata": {},
   "source": [
    "$$\n",
    "\\mathbb{E}\\left[(\\boldsymbol{y}-\\boldsymbol{\\tilde{y}})^2\\right]=\\mathrm{Bias}[\\tilde{y}]+\\mathrm{var}[\\tilde{y}]+\\sigma^2,\n",
    "$$\n"
   ]
  },
  {
   "cell_type": "markdown",
   "id": "8cb50416",
   "metadata": {},
   "source": [
    "with\n"
   ]
  },
  {
   "cell_type": "markdown",
   "id": "e49bdbb4",
   "metadata": {},
   "source": [
    "$$\n",
    "\\mathrm{Bias}[\\tilde{y}]=\\mathbb{E}\\left[\\left(\\boldsymbol{y}-\\mathbb{E}\\left[\\boldsymbol{\\tilde{y}}\\right]\\right)^2\\right],\n",
    "$$\n"
   ]
  },
  {
   "cell_type": "markdown",
   "id": "eca5554a",
   "metadata": {},
   "source": [
    "and\n"
   ]
  },
  {
   "cell_type": "markdown",
   "id": "b1054343",
   "metadata": {},
   "source": [
    "$$\n",
    "\\mathrm{var}[\\tilde{y}]=\\mathbb{E}\\left[\\left(\\tilde{\\boldsymbol{y}}-\\mathbb{E}\\left[\\boldsymbol{\\tilde{y}}\\right]\\right)^2\\right]=\\frac{1}{n}\\sum_i(\\tilde{y}_i-\\mathbb{E}\\left[\\boldsymbol{\\tilde{y}}\\right])^2.\n",
    "$$\n",
    "\n",
    "In order to arrive at the equation for the bias, we have to approximate the unknown function $f$ with the output/target values $y$.\n"
   ]
  },
  {
   "cell_type": "markdown",
   "id": "f6c9d83d",
   "metadata": {},
   "source": [
    "ANSWER:\n",
    "\n",
    "Expanding the cost function in terms of the expectation value:\n",
    "$$\n",
    "\\mathbb{E}\\left[(\\boldsymbol{y}-\\boldsymbol{\\tilde{y}})^2\\right]=\\mathbb{E}\\left[y^2\\right]-2\\mathbb{E}\\left[\\boldsymbol{y}\\boldsymbol{\\tilde{y}}\\right]+\\mathbb{E}\\left[\\boldsymbol{\\tilde{y}}^2\\right]\n",
    "$$\n",
    "\n",
    "We can reqrite the first term as:\n",
    "$$\n",
    "\\mathbb{E}\\left[y^2\\right]=\\mathbb{E}\\left[\\left(f+\\epsilon\\right)^2\\right]=\\mathbb{E}\\left[f^2\\right]+2\\mathbb{E}\\left[f\\epsilon\\right]+\\mathbb{E}\\left[\\epsilon^2\\right]=f^2+\\sigma^2\n",
    "$$\n",
    "\n",
    "The second term is:\n",
    "$$\n",
    "\\mathbb{E}\\left[\\boldsymbol{y}\\boldsymbol{\\tilde{y}}\\right]=\\mathbb{E}\\left[\\left(f+\\epsilon\\right)\\boldsymbol{\\tilde{y}}\\right]=\\mathbb{E}\\left[f\\boldsymbol{\\tilde{y}}\\right]+\\mathbb{E}\\left[\\epsilon\\boldsymbol{\\tilde{y}}\\right]=f\\mathbb{E}\\left[\\boldsymbol{\\tilde{y}}\\right]\n",
    "$$\n",
    "\n",
    "And the third can be writen as:\n",
    "$$\n",
    "\\mathbb{E}\\left[\\boldsymbol{\\tilde{y}}^2\\right]=\\mathrm{var}[\\tilde{y}]+\\left(\\mathbb{E}\\left[\\boldsymbol{\\tilde{y}}\\right]\\right)^2\n",
    "$$\n",
    "\n",
    "Going back to the initial equation:\n",
    "$$\n",
    "\\mathbb{E}\\left[(\\boldsymbol{y}-\\boldsymbol{\\tilde{y}})^2\\right]=f^2+\\sigma^2-2f\\mathbb{E}\\left[\\boldsymbol{\\tilde{y}}\\right]+\\mathrm{var}[\\tilde{y}]+\\left(\\mathbb{E}\\left[\\boldsymbol{\\tilde{y}}\\right]\\right)^2\n",
    "$$\n",
    "$$\n",
    "\\mathbb{E}\\left[(\\boldsymbol{y}-\\boldsymbol{\\tilde{y}})^2\\right]=f^2-2f\\mathbb{E}\\left[\\boldsymbol{\\tilde{y}}\\right]+\\left(\\mathbb{E}\\left[\\boldsymbol{\\tilde{y}}\\right]\\right)^2+\\mathrm{var}[\\tilde{y}]+\\sigma^2\n",
    "$$\n",
    "$$\n",
    "\\mathbb{E}\\left[(\\boldsymbol{y}-\\boldsymbol{\\tilde{y}})^2\\right]=\\mathbb{E}\\left[\\left(f-\\mathbb{E}\\left[\\boldsymbol{\\tilde{y}}\\right]\\right)^2\\right]+\\mathrm{var}[\\tilde{y}]+\\sigma^2\n",
    "$$\n",
    "Aproximating $f$ with $y$:\n",
    "$$\n",
    "\\mathbb{E}\\left[(\\boldsymbol{y}-\\boldsymbol{\\tilde{y}})^2\\right]=\\mathbb{E}\\left[\\left(\\boldsymbol{y}-\\mathbb{E}\\left[\\boldsymbol{\\tilde{y}}\\right]\\right)^2\\right]+\\mathrm{var}[\\tilde{y}]+\\sigma^2\n",
    "$$"
   ]
  },
  {
   "cell_type": "markdown",
   "id": "70fbfcd7",
   "metadata": {},
   "source": [
    "**b)** Explain what the terms mean and discuss their interpretations.\n"
   ]
  },
  {
   "cell_type": "markdown",
   "id": "39614eae",
   "metadata": {},
   "source": [
    "ANSWER:\n",
    "\n",
    "The first term is the bias of the model, and it corresponds to how far the expectation value predicted by the model is from the true expecttion value. The second terms is the variance of the model, which reflects the sensitivity of our model to outliers in the training data. The last term is the variance of the noise to which our data is subjected."
   ]
  },
  {
   "cell_type": "markdown",
   "id": "b8f8b9d1",
   "metadata": {},
   "source": [
    "## Exercise 4: Computing the Bias and Variance\n"
   ]
  },
  {
   "cell_type": "markdown",
   "id": "9e012430",
   "metadata": {},
   "source": [
    "Before you compute the bias and variance of a real model for different complexities, let's for now assume that you have sampled predictions and targets for a single model complexity using bootstrap resampling.\n",
    "\n",
    "**a)** Using the expression above, compute the mean squared error, bias and variance of the given data. Check that the sum of the bias and variance correctly gives (approximately) the mean squared error.\n"
   ]
  },
  {
   "cell_type": "code",
   "execution_count": 8,
   "id": "b5bf581c",
   "metadata": {},
   "outputs": [
    {
     "name": "stdout",
     "output_type": "stream",
     "text": [
      "MSE: 218.8872114146699, Bias: 210.53906601792244, Variance: 8.339254352565794\n",
      "Difference MSE - (Bias + Variance):  0.00889104418166653\n"
     ]
    }
   ],
   "source": [
    "import numpy as np\n",
    "\n",
    "n = 100\n",
    "bootstraps = 1000\n",
    "\n",
    "predictions = np.random.rand(bootstraps, n) * 10 + 10\n",
    "# The definition of targets has been updated, and was wrong earlier in the week.\n",
    "targets = np.random.rand(1, n)\n",
    "\n",
    "mse = np.mean((predictions - targets) ** 2)\n",
    "bias = np.mean((targets-np.mean(predictions))**2)\n",
    "variance = np.mean((predictions-np.mean(predictions))**2)\n",
    "\n",
    "print(f\"MSE: {mse}, Bias: {bias}, Variance: {variance}\")\n",
    "print('Difference MSE - (Bias + Variance): ', abs(mse - (bias + variance)))"
   ]
  },
  {
   "cell_type": "markdown",
   "id": "7b1dc621",
   "metadata": {},
   "source": [
    "**b)** Change the prediction values in some way to increase the bias while decreasing the variance."
   ]
  },
  {
   "cell_type": "code",
   "execution_count": 11,
   "id": "40ec3704",
   "metadata": {},
   "outputs": [
    {
     "name": "stdout",
     "output_type": "stream",
     "text": [
      "MSE: 398.24117420791015, Bias: 398.1575037323217, Variance: 0.0834881570524094\n",
      "Difference MSE - (Bias + Variance):  0.0001823185360763091\n"
     ]
    }
   ],
   "source": [
    "import numpy as np\n",
    "\n",
    "n = 100\n",
    "bootstraps = 1000\n",
    "\n",
    "predictions = np.random.rand(bootstraps, n) * 1 + 20\n",
    "# The definition of targets has been updated, and was wrong earlier in the week.\n",
    "targets = np.random.rand(1, n)\n",
    "\n",
    "mse = np.mean((predictions - targets) ** 2)\n",
    "bias = np.mean((targets-np.mean(predictions))**2)\n",
    "variance = np.mean((predictions-np.mean(predictions))**2)\n",
    "\n",
    "print(f\"MSE: {mse}, Bias: {bias}, Variance: {variance}\")\n",
    "print('Difference MSE - (Bias + Variance): ', abs(mse - (bias + variance)))"
   ]
  },
  {
   "cell_type": "markdown",
   "id": "9cd870ae",
   "metadata": {},
   "source": [
    "**c)** Change the prediction values in some way to increase the variance while decreasing the bias."
   ]
  },
  {
   "cell_type": "code",
   "execution_count": 12,
   "id": "5f495477",
   "metadata": {},
   "outputs": [
    {
     "name": "stdout",
     "output_type": "stream",
     "text": [
      "MSE: 142.71843136117076, Bias: 109.37342539655793, Variance: 33.35283034975722\n",
      "Difference MSE - (Bias + Variance):  0.007824385144402868\n"
     ]
    }
   ],
   "source": [
    "import numpy as np\n",
    "\n",
    "n = 100\n",
    "bootstraps = 1000\n",
    "\n",
    "predictions = np.random.rand(bootstraps, n) * 20 + 1\n",
    "# The definition of targets has been updated, and was wrong earlier in the week.\n",
    "targets = np.random.rand(1, n)\n",
    "\n",
    "mse = np.mean((predictions - targets) ** 2)\n",
    "bias = np.mean((targets-np.mean(predictions))**2)\n",
    "variance = np.mean((predictions-np.mean(predictions))**2)\n",
    "\n",
    "print(f\"MSE: {mse}, Bias: {bias}, Variance: {variance}\")\n",
    "print('Difference MSE - (Bias + Variance): ', abs(mse - (bias + variance)))"
   ]
  },
  {
   "cell_type": "markdown",
   "id": "8da63362",
   "metadata": {},
   "source": [
    "**d)** Perform a bias-variance analysis of a polynomial OLS model fit to a one-dimensional function by computing and plotting the bias and variances values as a function of the polynomial degree of your model.\n"
   ]
  },
  {
   "cell_type": "code",
   "execution_count": 13,
   "id": "dd5855e4",
   "metadata": {},
   "outputs": [],
   "source": [
    "import numpy as np\n",
    "import matplotlib.pyplot as plt\n",
    "from sklearn.preprocessing import (\n",
    "    PolynomialFeatures,\n",
    ")  # use the fit_transform method of the created object!\n",
    "from sklearn.linear_model import LinearRegression\n",
    "from sklearn.metrics import mean_squared_error\n",
    "from sklearn.model_selection import train_test_split\n",
    "from sklearn.utils import resample"
   ]
  },
  {
   "cell_type": "code",
   "execution_count": 32,
   "id": "7e35fa37",
   "metadata": {},
   "outputs": [
    {
     "data": {
      "image/png": "[encoded data removed]",
      "text/plain": [
       "<Figure size 640x480 with 1 Axes>"
      ]
     },
     "metadata": {},
     "output_type": "display_data"
    }
   ],
   "source": [
    "n = 100\n",
    "bootstraps = 1000\n",
    "\n",
    "x = np.linspace(-3, 3, n).reshape(-1, 1)\n",
    "y = np.exp(-(x**2)) + 1.5 * np.exp(-((x - 2) ** 2)) + np.random.normal(0, 0.1)\n",
    "\n",
    "biases = []\n",
    "variances = []\n",
    "mses = []\n",
    "degrees = range(1, 8)\n",
    "\n",
    "x_train, x_test, y_train, y_test = train_test_split(x, y, test_size=0.5)\n",
    "\n",
    "for p in degrees:\n",
    "    predictions = np.empty((y_test.shape[0], bootstraps))\n",
    "    poly = PolynomialFeatures(degree=p)\n",
    "    for b in range(bootstraps):\n",
    "       x_, y_ = resample(x_train, y_train)\n",
    "       X_ = poly.fit_transform(x_)\n",
    "       # fit your model on the sampled data\n",
    "       model = LinearRegression().fit(X_, y_)\n",
    "       # make predictions on the test data\n",
    "       X_test_poly = poly.transform(x_test)\n",
    "       predictions[:,b] = model.predict(X_test_poly).ravel()\n",
    "\n",
    "    biases.append(np.mean( (y_test - np.mean(predictions, axis=1, keepdims=True))**2 ))\n",
    "    variances.append(np.mean( np.var(predictions, axis=1, keepdims=True) ))\n",
    "    mses.append(np.mean( np.mean((y_test - predictions)**2, axis=1, keepdims=True) ))\n",
    "\n",
    "plt.plot(degrees, biases, label='Bias')\n",
    "plt.plot(degrees, variances, label='Variance')\n",
    "plt.plot(degrees, mses, label='MSE')\n",
    "plt.xlabel('Polynomial Degree', fontsize=15) \n",
    "plt.ylabel('Error', fontsize=15)\n",
    "plt.yticks(fontsize=13)\n",
    "plt.xticks(degrees, fontsize=13)\n",
    "plt.legend(fontsize=13)\n",
    "plt.savefig(\"bias_variance.png\", dpi=300, bbox_inches='tight')\n",
    "plt.show()"
   ]
  },
  {
   "cell_type": "markdown",
   "id": "253b8461",
   "metadata": {},
   "source": [
    "**e)** Discuss the bias-variance trade-off as function of your model complexity (the degree of the polynomial).\n",
    "\n",
    "ANSWER:\n",
    "For a low complexity, the MSE of the model is dominated by the bias term, since it is not complex enough to capture the features of the data. However, as we increase complexity, the error tends to be dominated by the variance, since it becomes more sensitive to the outliers of the training data."
   ]
  },
  {
   "cell_type": "markdown",
   "id": "6623df8d",
   "metadata": {},
   "source": [
    "**f)** Compute and discuss the bias and variance as function of the number of data points (choose a suitable polynomial degree to show something interesting)."
   ]
  },
  {
   "cell_type": "code",
   "execution_count": 37,
   "id": "2c674ff5",
   "metadata": {},
   "outputs": [
    {
     "data": {
      "image/png": "[encoded data removed]",
      "text/plain": [
       "<Figure size 640x480 with 1 Axes>"
      ]
     },
     "metadata": {},
     "output_type": "display_data"
    }
   ],
   "source": [
    "n_data = [10, 20, 30, 40, 50, 60, 70, 80, 90, 100]\n",
    "bootstraps = 1000\n",
    "\n",
    "biases = []\n",
    "variances = []\n",
    "mses = []\n",
    "poly = PolynomialFeatures(degree=5)\n",
    "\n",
    "np.random.seed(2018)\n",
    "\n",
    "for n in n_data:\n",
    "    x = np.linspace(-3, 3, n).reshape(-1, 1)\n",
    "    y = np.exp(-(x**2)) + 1.5 * np.exp(-((x - 2) ** 2)) + np.random.normal(0, 0.1)\n",
    "    x_train, x_test, y_train, y_test = train_test_split(x, y, test_size=0.5)\n",
    "    predictions = np.empty((y_test.shape[0], bootstraps))\n",
    "    for b in range(bootstraps):\n",
    "       x_, y_ = resample(x_train, y_train)\n",
    "       X_ = poly.fit_transform(x_)\n",
    "       # fit your model on the sampled data\n",
    "       model = LinearRegression().fit(X_, y_)\n",
    "       # make predictions on the test data\n",
    "       X_test_poly = poly.transform(x_test)\n",
    "       predictions[:,b] = model.predict(X_test_poly).ravel()\n",
    "\n",
    "    biases.append(np.mean( (y_test - np.mean(predictions, axis=1, keepdims=True))**2 ))\n",
    "    variances.append(np.mean( np.var(predictions, axis=1, keepdims=True) ))\n",
    "    mses.append(np.mean( np.mean((y_test - predictions)**2, axis=1, keepdims=True) ))\n",
    "\n",
    "plt.plot(n_data, biases, label='Bias')\n",
    "plt.plot(n_data, variances, label='Variance')\n",
    "plt.plot(n_data, mses, label='MSE')\n",
    "plt.xlabel('Number of Data Points', fontsize=15) \n",
    "plt.ylabel('Error', fontsize=15)\n",
    "plt.yticks(fontsize=13)\n",
    "plt.xticks(n_data, fontsize=13)\n",
    "plt.legend(fontsize=13)\n",
    "plt.savefig(\"bias_variance_n_data.png\", dpi=300, bbox_inches='tight')\n",
    "plt.show()"
   ]
  },
  {
   "cell_type": "markdown",
   "id": "f2b7f14c",
   "metadata": {},
   "source": [
    "ANSWER: The error is basically dominated by the variance, and decreases as we add more data."
   ]
  },
  {
   "cell_type": "markdown",
   "id": "46250fbc",
   "metadata": {},
   "source": [
    "## Exercise 5: Interpretation of scaling and metrics\n"
   ]
  },
  {
   "cell_type": "markdown",
   "id": "5af53055",
   "metadata": {},
   "source": [
    "In this course, we often ask you to scale data and compute various metrics. Although these practices are \"standard\" in the field, we will require you to demonstrate an understanding of _why_ you need to scale data and use these metrics. Both so that you can make better arguements about your results, and so that you will hopefully make fewer mistakes.\n",
    "\n",
    "First, a few reminders: In this course you should always scale the columns of the feature matrix, and sometimes scale the target data, when it is worth the effort. By scaling, we mean subtracting the mean and dividing by the standard deviation, though there are many other ways to scale data. When scaling either the feature matrix or the target data, the intercept becomes a bit harder to implement and understand, so take care.\n",
    "\n",
    "Briefly answer the following:\n",
    "\n",
    "**a)** Why do we scale data?\n",
    "\n",
    "ANSWER: It makes sure that all features contribute equally, improves convergence and stability. \n",
    "\n",
    "**b)** Why does the OLS method give practically equivelent models on scaled and unscaled data?\n",
    "\n",
    "ANSWER: Since OLS estimates the coefficients based on the best linear combination of features, the prediction will be the same even if the coefficients are different with or without scaling.  \n",
    "\n",
    "**c)** Why does the Ridge method **not** give practically equivelent models on scaled and unscaled data? Why do we only consider the model on scaled data correct?\n",
    "\n",
    "ANSWER: Ridge adds a penalty term to the cost function, which is dependant on the scale of the features. As such, it can vary significantly if the data is scaled or not.\n",
    "\n",
    "**d)** Why do we say that the Ridge method gives a biased model?\n",
    "\n",
    "ANSWER: This bias comes from the addition of the penalty term mentioned above.\n",
    "\n",
    "**e)** Is the MSE of the OLS method affected by scaling of the feature matrix? Is it affected by scaling of the target data?\n",
    "\n",
    "ANSWER: The MSE of the OLS method is not affected by scaling of the feature matrix, but it is by scaling the target data. That is because the first changes the coefficients but not the predictions, and the latter results in different prediction values. \n",
    "\n",
    "**f)** Read about the R2 score, a metric we will ask you to use a lot later in the course. Is the R2 score of the OLS method affected by scaling of the feature matrix? Is it affected by scaling of the target data?\n",
    "\n",
    "ANSWER: The R2 score of the OLS method is not affected by the scalling of the feature matrix but it is affected by the scalling of the target data. This score is related to the variance explained by the model, which does not change if the feature matrix is scaled, but dependent on the variance of the target variable.\n",
    "\n",
    "**g)** Give interpretations of the following R2 scores: 0, 0.5, 1.\n",
    "\n",
    "ANSWER: A R2 score equal to zero indicates that the model is not able to explain the variance of the target variable. A R2 score equal to 0.5 means that 50% of that variance is explained. A R2 score equal to 1 indicates that the model is able to capture all the variability of the target variable.\n",
    "\n",
    "**h)** What is an advantage of the R2 score over the MSE?\n",
    "\n",
    "ANSWER: It makes it easier to compare different models, since it is normalized between 0 and 1, with clear interpretation of the score."
   ]
  }
 ],
 "metadata": {
  "kernelspec": {
   "display_name": "fys-course (3.12.3)",
   "language": "python",
   "name": "python3"
  },
  "language_info": {
   "codemirror_mode": {
    "name": "ipython",
    "version": 3
   },
   "file_extension": ".py",
   "mimetype": "text/x-python",
   "name": "python",
   "nbconvert_exporter": "python",
   "pygments_lexer": "ipython3",
   "version": "3.12.3"
  }
 },
 "nbformat": 4,
 "nbformat_minor": 5
}
