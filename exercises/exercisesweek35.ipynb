{
 "cells": [
  {
   "cell_type": "markdown",
   "id": "b4b5dbe0",
   "metadata": {},
   "source": [
    "# FYS-STK4155 Excercises week 35\n"
   ]
  },
  {
   "cell_type": "markdown",
   "id": "ba5382f3",
   "metadata": {},
   "source": [
    "## Exercise 1 \n",
    "**a)** \n",
    "\n",
    "The shape of $\\boldsymbol{a}^T \\boldsymbol{x} $ is 1\n",
    "\n",
    "The shape of $\\boldsymbol{x}$ is $n\\times 1$ since it is a column vector. \n",
    "\n",
    "The shape of $\\frac{ \\partial ( \\boldsymbol{a}^T\\boldsymbol{x})}{\\partial \\boldsymbol{x}}$ is $1 \\times n$. \n",
    "\n",
    "**b)**\n",
    "Since $\\boldsymbol{a}^T\\boldsymbol{x} = a_0x_0+a_1x_1 + \\dots + a_{n-1}x_{n-1}$ and $\\frac{\\partial}{\\partial x_i} \\left( a_0x_0+a_1x_1 + \\dots +a_ix_i + \\dots + a_{n-1}x_{n-1} \\right) = a_i $\n",
    "$$\\frac{ \\partial ( \\boldsymbol{a}^T\\boldsymbol{x})}{\\partial \\boldsymbol{x}} = \\left[ \\frac{ \\partial ( \\boldsymbol{a}^T\\boldsymbol{x})}{\\partial x_0}, \\frac{ \\partial ( \\boldsymbol{a}^T\\boldsymbol{x})}{\\partial x_1}, \\dots, \\frac{ \\partial ( \\boldsymbol{a}^T\\boldsymbol{x})}{\\partial x_{n-1}}   \\right] =  \\left[ a_0, a_1, \\dots, a_{n-1} \\right] = \\boldsymbol{a}^T$$\n",
    "\n",
    "\n",
    "**c)**\n",
    "$\\boldsymbol{a} = \\left[a_0, a_1, \\dots, a_{n-1} \\right]$ and $\\alpha_{ij}$ describes the elements of $A$. \n",
    "\n",
    "$\\boldsymbol{a}^TA\\boldsymbol{a}$ is a scalar: $\\boldsymbol{a}^TA\\boldsymbol{a} = \\sum_{i=0}^{n-1}\\sum_{j=0}^{n-1} a_i\\alpha_{ij}a_j$\n",
    "$$ \\frac{\\partial \\boldsymbol{a}^TA\\boldsymbol{a}}{\\partial a_k} = \\sum_{i=0}^{n-1} \\alpha_{ik} a_i + \\sum_{j=0}^{n-1} \\alpha_{kj}a_j$$\n",
    "\n",
    "which gives\n",
    "\n",
    "$$ \\frac{\\partial \\boldsymbol{a}^TA\\boldsymbol{a}}{\\partial \\boldsymbol{a}} = \\boldsymbol{a}^T\\left(A + A^T \\right) $$\n",
    "\n",
    "\n",
    "\n",
    "\n"
   ]
  },
  {
   "cell_type": "markdown",
   "id": "5218044c",
   "metadata": {},
   "source": [
    "## Exercise 2\n",
    "**a)** Setting the derivative with respect to $\\theta$ equal to zero means we find either the greatest or lowest value of the mean squared error. This will be the lowest value becuase of the nature of the mean squared error function we use. \n",
    "\n",
    "**b)** Since $X$ is invertible \n",
    "$$ X \\theta = y $$\n",
    "$$ X^{-1}X \\theta = X^{-1} y $$\n",
    "$$ \\theta = X^{-1} y$$\n",
    "The mean square error will be zero and cannot be lower.\n",
    "\n",
    "**c)** Using rules for derivatives:\n",
    "$$ \\frac{\\partial \\left(\\boldsymbol{x}-A\\boldsymbol{s} \\right)^T \\left(\\boldsymbol{x}-A\\boldsymbol{s} \\right)}{\\partial \\boldsymbol{s}} = 2\\left(\\boldsymbol{x} -A\\boldsymbol{s} \\right)^T \\frac{\\partial \\left(\\boldsymbol{x}-A\\boldsymbol{s}\\right)}{\\partial\\boldsymbol{s}} = 2\\left(\\boldsymbol{x} -A\\boldsymbol{s} \\right)^T \\left(-A\\right) = - 2\\left(\\boldsymbol{x} -A\\boldsymbol{s} \\right)^T A $$\n",
    "\n",
    "**d)**\n",
    "From the result above we get \n",
    "$$ \\frac{\\partial \\left(\\boldsymbol{y}-X\\boldsymbol{\\theta}\\right)^T \\left( \\boldsymbol{y}-X\\boldsymbol{\\theta}\\right)}{\\partial \\boldsymbol{\\theta}} =- 2 \\left(\\boldsymbol{y}-A\\boldsymbol{\\theta}\\right)^T X $$\n",
    "\n",
    "Setting the right side equal to zero:\n",
    "$$ - 2 \\left(\\boldsymbol{y}-A\\boldsymbol{\\theta}\\right)^TX = 0$$\n",
    "$$ -2 \\left(\\boldsymbol{y}-\\boldsymbol{\\theta}^T X^T\\right) X = 0$$\n",
    "$$ -2\\boldsymbol{y}^TX + 2 \\boldsymbol{\\theta}X^TX = 0 $$\n",
    "$$ \\boldsymbol{\\theta}^T X^TX = \\boldsymbol{y}^TX $$\n",
    "$$ \\boldsymbol{\\theta}^T = \\boldsymbol{y}^TX \\left(X^TX \\right)^{-1} $$\n",
    "$$ \\boldsymbol{\\hat{\\theta}} = \\left(\\boldsymbol{y}^T X \\left(X^TX \\right)^{-1}\\right)^T$$\n",
    "$$ \\boldsymbol{\\hat{\\theta}} = \\left(X^TX\\right)^{-1}X^T\\boldsymbol{y}$$"
   ]
  },
  {
   "cell_type": "markdown",
   "id": "3ef2ad59",
   "metadata": {},
   "source": [
    "## Exercise 3\n",
    "\n",
    "**a)**"
   ]
  },
  {
   "cell_type": "code",
   "execution_count": 7,
   "id": "1a89abe5",
   "metadata": {},
   "outputs": [],
   "source": [
    "import numpy as np"
   ]
  },
  {
   "cell_type": "code",
   "execution_count": 8,
   "id": "6d1a59ea",
   "metadata": {},
   "outputs": [],
   "source": [
    "n = 20\n",
    "income = np.array([116., 161., 167., 118., 172., 163., 179., 173., 162., 116., 101., 176., 178., 172., 143., 135., 160., 101., 149., 125.])\n",
    "children = np.array([5, 3, 0, 4, 5, 3, 0, 4, 4, 3, 3, 5, 1, 0, 2, 3, 2, 1, 5, 4])\n",
    "spending = np.array([152., 141., 102., 136., 161., 129.,  99., 159., 160., 107.,  98., 164., 121.,  93., 112., 127., 117.,  69., 156., 131.])"
   ]
  },
  {
   "cell_type": "code",
   "execution_count": 9,
   "id": "8893fb47",
   "metadata": {},
   "outputs": [],
   "source": [
    "X = np.zeros((n, 3))\n",
    "X[:, 0] = 1.0\n",
    "X[:, 1] = income\n",
    "X[:, 2] = children"
   ]
  },
  {
   "cell_type": "markdown",
   "id": "ef41a2e1",
   "metadata": {},
   "source": [
    "**b)**\n",
    "\n",
    "$$ \\boldsymbol{\\hat{\\theta}} = \\left(X^TX\\right)^{-1}X^T\\boldsymbol{y}$$\n"
   ]
  },
  {
   "cell_type": "code",
   "execution_count": 11,
   "id": "34ad872d",
   "metadata": {},
   "outputs": [],
   "source": [
    "def OLS_parameters(X, y):\n",
    "    return (np.linalg.inv(X.T @ X) @ X.T ) @ y\n",
    "\n",
    "# beta = OLS_parameters(X, y)\n"
   ]
  },
  {
   "cell_type": "markdown",
   "id": "6dc3dd0d",
   "metadata": {},
   "source": [
    "## Exercise 4\n",
    "**a)**"
   ]
  },
  {
   "cell_type": "code",
   "execution_count": 13,
   "id": "3d6b2061",
   "metadata": {},
   "outputs": [],
   "source": [
    "n = 100\n",
    "x = np.linspace(-3, 3, n)\n",
    "y = np.exp(-x**2) + 1.5 * np.exp(-(x-2)**2) + np.random.normal(0, 0.1)"
   ]
  },
  {
   "cell_type": "code",
   "execution_count": 14,
   "id": "2bcb9326",
   "metadata": {},
   "outputs": [],
   "source": [
    "def polynomial_features(x, p):\n",
    "    n = len(x)\n",
    "    X = np.zeros((n, p + 1))\n",
    "    X[:, 0] = 1.0\n",
    "    for i in range(1,p+1):\n",
    "        X[:, i] = x**i\n",
    "    return X\n",
    "\n",
    "X = polynomial_features(x, 5)"
   ]
  },
  {
   "cell_type": "code",
   "execution_count": null,
   "id": "832cd5d9",
   "metadata": {},
   "outputs": [],
   "source": []
  },
  {
   "cell_type": "markdown",
   "id": "031dcec1",
   "metadata": {},
   "source": [
    "**b)**"
   ]
  },
  {
   "cell_type": "code",
   "execution_count": 16,
   "id": "9279a152",
   "metadata": {},
   "outputs": [],
   "source": [
    "\n",
    "beta = OLS_parameters(X, y)"
   ]
  },
  {
   "cell_type": "markdown",
   "id": "dfdf15d2",
   "metadata": {},
   "source": [
    "**c)** split into test and train data"
   ]
  },
  {
   "cell_type": "code",
   "execution_count": 18,
   "id": "2233317f",
   "metadata": {},
   "outputs": [],
   "source": [
    "from sklearn.model_selection import train_test_split\n",
    "from sklearn.metrics import mean_squared_error\n",
    "from sklearn.linear_model import LinearRegression\n",
    "\n",
    "X_train, X_test, y_train, y_test = train_test_split(X, y, test_size=0.2)"
   ]
  },
  {
   "cell_type": "markdown",
   "id": "ea4ba3ea",
   "metadata": {},
   "source": [
    "**d)** train model"
   ]
  },
  {
   "cell_type": "code",
   "execution_count": 20,
   "id": "e7b795c2",
   "metadata": {},
   "outputs": [],
   "source": [
    "# def MSE(y_data,y_model):\n",
    "    # return np.sum((y_data-y_model)**2)/n"
   ]
  },
  {
   "cell_type": "code",
   "execution_count": 21,
   "id": "91e05512",
   "metadata": {},
   "outputs": [
    {
     "name": "stdout",
     "output_type": "stream",
     "text": [
      "Training MSE\n",
      "0.01278494261654763\n",
      "Test MSE\n",
      "0.017620095101497778\n"
     ]
    }
   ],
   "source": [
    "beta = OLS_parameters(X_train, y_train)\n",
    "y_tilde = X_train @ beta\n",
    "\n",
    "print(\"Training MSE\")\n",
    "print(mean_squared_error(y_train,y_tilde))\n",
    "\n",
    "ypredict = X_test @ beta\n",
    "print(\"Test MSE\")\n",
    "print(mean_squared_error(y_test,ypredict))\n"
   ]
  },
  {
   "cell_type": "markdown",
   "id": "7b0761f9",
   "metadata": {},
   "source": [
    "**e)** Repeat for polynomials of degree 2 to 10. Plot."
   ]
  },
  {
   "cell_type": "code",
   "execution_count": 23,
   "id": "1433e171",
   "metadata": {},
   "outputs": [],
   "source": [
    "import matplotlib.pyplot as plt"
   ]
  },
  {
   "cell_type": "code",
   "execution_count": 24,
   "id": "500766d5",
   "metadata": {},
   "outputs": [
    {
     "data": {
      "text/plain": [
       "<matplotlib.legend.Legend at 0x320a5ecc0>"
      ]
     },
     "execution_count": 24,
     "metadata": {},
     "output_type": "execute_result"
    },
    {
     "data": {
      "image/png": "[encoded data removed]",
      "text/plain": [
       "<Figure size 640x480 with 1 Axes>"
      ]
     },
     "metadata": {},
     "output_type": "display_data"
    }
   ],
   "source": [
    "n = 9\n",
    "mse_train = np.zeros(n)\n",
    "mse_test = np.zeros(n)\n",
    "\n",
    "for i in range(n):\n",
    "    X = polynomial_features(x, i+2)\n",
    "    X_train, X_test, y_train, y_test = train_test_split(X, y, test_size=0.2)\n",
    "    beta = OLS_parameters(X_train, y_train)\n",
    "    y_tilde = X_train @ beta\n",
    "    mse_train[i] =  mean_squared_error(y_train, y_tilde)\n",
    "    ypredict = X_test @ beta\n",
    "    mse_test[i] = mean_squared_error(y_test, ypredict)\n",
    "\n",
    "\n",
    "plt.plot(range(2,n+2), mse_train, label='MSE train')\n",
    "plt.plot(range(2,n+2), mse_test, label='MSE test')\n",
    "plt.legend(loc='best')\n"
   ]
  },
  {
   "cell_type": "markdown",
   "id": "44a35460",
   "metadata": {},
   "source": [
    "**f)** The lines change when I rerun the code. But this looks like we need a higher order polynomial to reduce the mean squared error. "
   ]
  },
  {
   "cell_type": "markdown",
   "id": "d246f7d6",
   "metadata": {},
   "source": [
    "## Exercise 5\n",
    "**a)** make sure `polynomial_features` matches `scikitlearn`. "
   ]
  },
  {
   "cell_type": "code",
   "execution_count": 27,
   "id": "35f7d1fa",
   "metadata": {},
   "outputs": [
    {
     "data": {
      "text/plain": [
       "array([[ 1.00000000e+00,  1.00000000e+00, -3.00000000e+00, ...,\n",
       "         7.97664431e+22, -2.39299329e+23,  7.17897988e+23],\n",
       "       [ 1.00000000e+00,  1.00000000e+00, -2.93939394e+00, ...,\n",
       "         2.99484349e+22, -8.80302479e+22,  2.58755577e+23],\n",
       "       [ 1.00000000e+00,  1.00000000e+00, -2.87878788e+00, ...,\n",
       "         1.10170150e+22, -3.17156492e+22,  9.13026264e+22],\n",
       "       ...,\n",
       "       [ 1.00000000e+00,  1.00000000e+00,  2.87878788e+00, ...,\n",
       "         1.10170150e+22,  3.17156492e+22,  9.13026264e+22],\n",
       "       [ 1.00000000e+00,  1.00000000e+00,  2.93939394e+00, ...,\n",
       "         2.99484349e+22,  8.80302479e+22,  2.58755577e+23],\n",
       "       [ 1.00000000e+00,  1.00000000e+00,  3.00000000e+00, ...,\n",
       "         7.97664431e+22,  2.39299329e+23,  7.17897988e+23]])"
      ]
     },
     "execution_count": 27,
     "metadata": {},
     "output_type": "execute_result"
    }
   ],
   "source": [
    "from sklearn.preprocessing import PolynomialFeatures\n",
    "poly = PolynomialFeatures(5)\n",
    "X_sci = X.copy()\n",
    "poly.fit_transform(X_sci)"
   ]
  },
  {
   "cell_type": "code",
   "execution_count": 28,
   "id": "f6417382",
   "metadata": {},
   "outputs": [],
   "source": [
    "assert X_sci.all() == X.all()"
   ]
  },
  {
   "cell_type": "markdown",
   "id": "46d74cea",
   "metadata": {},
   "source": [
    "**b)**"
   ]
  },
  {
   "cell_type": "code",
   "execution_count": 30,
   "id": "ab92dbfc",
   "metadata": {},
   "outputs": [],
   "source": [
    "poly_model = LinearRegression(fit_intercept=False).fit(X, y)\n",
    "\n",
    "assert poly_model.coef_.all() == beta.all()"
   ]
  },
  {
   "cell_type": "code",
   "execution_count": null,
   "id": "5fb63b41",
   "metadata": {},
   "outputs": [],
   "source": []
  }
 ],
 "metadata": {
  "kernelspec": {
   "display_name": "Python 3 (ipykernel)",
   "language": "python",
   "name": "python3"
  },
  "language_info": {
   "codemirror_mode": {
    "name": "ipython",
    "version": 3
   },
   "file_extension": ".py",
   "mimetype": "text/x-python",
   "name": "python",
   "nbconvert_exporter": "python",
   "pygments_lexer": "ipython3",
   "version": "3.12.4"
  }
 },
 "nbformat": 4,
 "nbformat_minor": 5
}
