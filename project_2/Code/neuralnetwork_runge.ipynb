{
 "cells": [
  {
   "cell_type": "markdown",
   "id": "643ae874",
   "metadata": {},
   "source": [
    "# Neural network to approximate Runge's function"
   ]
  },
  {
   "cell_type": "code",
   "execution_count": 1,
   "id": "a0883116",
   "metadata": {},
   "outputs": [],
   "source": [
    "# Imports\n",
    "import autograd.numpy as np  # We need to use this numpy wrapper to make automatic differentiation work later\n",
    "from autograd import grad, elementwise_grad\n",
    "from sklearn import datasets\n",
    "import matplotlib.pyplot as plt\n",
    "from sklearn.metrics import accuracy_score\n",
    "from sklearn.model_selection import train_test_split\n",
    "from sklearn.preprocessing import StandardScaler\n",
    "from sklearn.preprocessing import (\n",
    "    PolynomialFeatures,\n",
    ")\n",
    "\n",
    "from functions import runge, OLS_parameters\n",
    "from functions import ReLU, ReLU_der, sigmoid, sigmoid_der, softmax, softmax_vec, mse_der\n",
    "from functions import create_layers, feed_forward_batch, feed_forward_saver, backpropagation, train_network"
   ]
  },
  {
   "cell_type": "markdown",
   "id": "046bb706",
   "metadata": {},
   "source": []
  },
  {
   "cell_type": "code",
   "execution_count": 2,
   "id": "c52c19fe",
   "metadata": {},
   "outputs": [],
   "source": [
    "np.random.seed(42)\n",
    "n = 1000\n",
    "# data set from project 1\n",
    "x = np.linspace(-1,1, n).reshape(-1,1)\n",
    "y = runge(x) + 0.1*np.random.normal(0,1, x.shape)\n",
    "\n",
    "x_train, x_test, y_train, y_test = train_test_split(x, y, test_size=0.2, random_state=42)\n",
    "y_offset = y_train.mean()\n",
    "\n",
    "poly = PolynomialFeatures(degree=10)\n",
    "X_train = poly.fit_transform(x_train)\n",
    "X_test = poly.fit_transform(x_test)\n",
    "# scaling\n",
    "scaler = StandardScaler()\n",
    "scaler.fit(X_train)\n",
    "X_train_s = scaler.transform(X_train)\n",
    "X_test_s = scaler.transform(X_test)\n",
    "\n",
    "# OLS\n",
    "beta = OLS_parameters(X_train_s, y_train)\n",
    "y_test_tilde = X_test_s @ beta + y_offset\n",
    "y_train_tilde = X_train_s @ beta + y_offset"
   ]
  },
  {
   "cell_type": "code",
   "execution_count": 3,
   "id": "d9e40c59",
   "metadata": {},
   "outputs": [
    {
     "ename": "ValueError",
     "evalue": "matmul: Input operand 1 has a mismatch in its core dimension 0, with gufunc signature (n?,k),(k,m?)->(n?,m?) (size 15 is different from 50)",
     "output_type": "error",
     "traceback": [
      "\u001b[31m---------------------------------------------------------------------------\u001b[39m",
      "\u001b[31mValueError\u001b[39m                                Traceback (most recent call last)",
      "\u001b[36mCell\u001b[39m\u001b[36m \u001b[39m\u001b[32mIn[3]\u001b[39m\u001b[32m, line 9\u001b[39m\n\u001b[32m      7\u001b[39m inputs = X_train_s\n\u001b[32m      8\u001b[39m targets = y_train + y_offset\n\u001b[32m----> \u001b[39m\u001b[32m9\u001b[39m \u001b[43mtrain_network\u001b[49m\u001b[43m(\u001b[49m\u001b[43minputs\u001b[49m\u001b[43m,\u001b[49m\u001b[43m \u001b[49m\u001b[43mlayers\u001b[49m\u001b[43m,\u001b[49m\u001b[43m \u001b[49m\u001b[43mactivation_funcs\u001b[49m\u001b[43m,\u001b[49m\u001b[43m \u001b[49m\u001b[43mactivation_ders\u001b[49m\u001b[43m,\u001b[49m\u001b[43m \u001b[49m\u001b[43mtargets\u001b[49m\u001b[43m,\u001b[49m\u001b[43m \u001b[49m\u001b[43mmse_der\u001b[49m\u001b[43m,\u001b[49m\u001b[43m \u001b[49m\u001b[43mlearning_rate\u001b[49m\u001b[43m=\u001b[49m\u001b[32;43m0.01\u001b[39;49m\u001b[43m,\u001b[49m\u001b[43m \u001b[49m\u001b[43mepochs\u001b[49m\u001b[43m=\u001b[49m\u001b[32;43m500\u001b[39;49m\u001b[43m,\u001b[49m\u001b[43m \u001b[49m\u001b[43mminibatch_size\u001b[49m\u001b[43m=\u001b[49m\u001b[32;43m15\u001b[39;49m\u001b[43m)\u001b[49m\n",
      "\u001b[36mFile \u001b[39m\u001b[32m~/Desktop/FYS-STK4155-group14/project_2/Code/functions.py:160\u001b[39m, in \u001b[36mtrain_network\u001b[39m\u001b[34m(inputs, layers, activation_funcs, activation_ders, targets, cost_der, learning_rate, epochs, momentum, minibatch_size)\u001b[39m\n\u001b[32m    158\u001b[39m xi = x_shuffled[i : i + minibatch_size]\n\u001b[32m    159\u001b[39m yi = y_shuffled[i : i + minibatch_size]\n\u001b[32m--> \u001b[39m\u001b[32m160\u001b[39m layer_grads = \u001b[43mbackpropagation\u001b[49m\u001b[43m(\u001b[49m\u001b[43mxi\u001b[49m\u001b[43m,\u001b[49m\u001b[43m \u001b[49m\u001b[43mlayers\u001b[49m\u001b[43m,\u001b[49m\u001b[43m \u001b[49m\u001b[43mactivation_funcs\u001b[49m\u001b[43m,\u001b[49m\u001b[43m \u001b[49m\u001b[43myi\u001b[49m\u001b[43m,\u001b[49m\u001b[43m \u001b[49m\u001b[43mactivation_ders\u001b[49m\u001b[43m,\u001b[49m\u001b[43m \u001b[49m\u001b[43mcost_der\u001b[49m\u001b[43m)\u001b[49m\n\u001b[32m    161\u001b[39m \u001b[38;5;28;01mfor\u001b[39;00m idx, ((W, b), (W_g, b_g), (W_c, b_c)) \u001b[38;5;129;01min\u001b[39;00m \u001b[38;5;28menumerate\u001b[39m(\u001b[38;5;28mzip\u001b[39m(layers, layer_grads, change)):\n\u001b[32m    162\u001b[39m     new_change_W = learning_rate * W_g + momentum * W_c\n",
      "\u001b[36mFile \u001b[39m\u001b[32m~/Desktop/FYS-STK4155-group14/project_2/Code/functions.py:123\u001b[39m, in \u001b[36mbackpropagation\u001b[39m\u001b[34m(input, layers, activation_funcs, target, activation_ders, cost_der)\u001b[39m\n\u001b[32m    120\u001b[39m \u001b[38;5;28;01mdef\u001b[39;00m\u001b[38;5;250m \u001b[39m\u001b[34mbackpropagation\u001b[39m(\n\u001b[32m    121\u001b[39m     \u001b[38;5;28minput\u001b[39m, layers, activation_funcs, target, activation_ders, cost_der=mse_der\n\u001b[32m    122\u001b[39m ):\n\u001b[32m--> \u001b[39m\u001b[32m123\u001b[39m     layer_inputs, zs, predict = \u001b[43mfeed_forward_saver\u001b[49m\u001b[43m(\u001b[49m\u001b[38;5;28;43minput\u001b[39;49m\u001b[43m,\u001b[49m\u001b[43m \u001b[49m\u001b[43mlayers\u001b[49m\u001b[43m,\u001b[49m\u001b[43m \u001b[49m\u001b[43mactivation_funcs\u001b[49m\u001b[43m)\u001b[49m\n\u001b[32m    125\u001b[39m     layer_grads = [() \u001b[38;5;28;01mfor\u001b[39;00m layer \u001b[38;5;129;01min\u001b[39;00m layers]\n\u001b[32m    127\u001b[39m     \u001b[38;5;66;03m# We loop over the layers, from the last to the first\u001b[39;00m\n",
      "\u001b[36mFile \u001b[39m\u001b[32m~/Desktop/FYS-STK4155-group14/project_2/Code/functions.py:113\u001b[39m, in \u001b[36mfeed_forward_saver\u001b[39m\u001b[34m(input, layers, activation_funcs)\u001b[39m\n\u001b[32m    111\u001b[39m \u001b[38;5;28;01mfor\u001b[39;00m (W, b), activation_func \u001b[38;5;129;01min\u001b[39;00m \u001b[38;5;28mzip\u001b[39m(layers, activation_funcs):\n\u001b[32m    112\u001b[39m     layer_inputs.append(a)\n\u001b[32m--> \u001b[39m\u001b[32m113\u001b[39m     z = \u001b[43mW\u001b[49m\u001b[43m \u001b[49m\u001b[43m@\u001b[49m\u001b[43m \u001b[49m\u001b[43ma\u001b[49m + b\n\u001b[32m    114\u001b[39m     a = activation_func(z)\n\u001b[32m    116\u001b[39m     zs.append(z)\n",
      "\u001b[31mValueError\u001b[39m: matmul: Input operand 1 has a mismatch in its core dimension 0, with gufunc signature (n?,k),(k,m?)->(n?,m?) (size 15 is different from 50)"
     ]
    }
   ],
   "source": [
    "network_input_size = 1\n",
    "layer_output_sizes = [50, 1]\n",
    "activation_funcs = [sigmoid]\n",
    "activation_ders = [sigmoid_der]\n",
    "layers = create_layers(network_input_size, layer_output_sizes)\n",
    "\n",
    "inputs = X_train_s\n",
    "targets = y_train + y_offset\n",
    "train_network(inputs, layers, activation_funcs, activation_ders, targets, mse_der, learning_rate=0.01, epochs=500, minibatch_size=15)\n"
   ]
  },
  {
   "cell_type": "code",
   "execution_count": null,
   "id": "54ff3392",
   "metadata": {},
   "outputs": [],
   "source": [
    "def accuracy(predictions, targets):\n",
    "    one_hot_predictions = np.zeros(predictions.shape)\n",
    "\n",
    "    for i, prediction in enumerate(predictions):\n",
    "        one_hot_predictions[i, np.argmax(prediction)] = 1\n",
    "    return accuracy_score(one_hot_predictions, targets)"
   ]
  },
  {
   "cell_type": "code",
   "execution_count": null,
   "id": "c77aa0c2",
   "metadata": {},
   "outputs": [],
   "source": [
    "targets = y_test + y_offset\n",
    "\n",
    "predictions = feed_forward_batch(X_test_s, layers, activation_funcs)\n",
    "print(accuracy(predictions, targets))"
   ]
  },
  {
   "cell_type": "markdown",
   "id": "d68004c2",
   "metadata": {},
   "source": []
  }
 ],
 "metadata": {
  "kernelspec": {
   "display_name": "My Virtual Environment",
   "language": "python",
   "name": "myenv"
  },
  "language_info": {
   "codemirror_mode": {
    "name": "ipython",
    "version": 3
   },
   "file_extension": ".py",
   "mimetype": "text/x-python",
   "name": "python",
   "nbconvert_exporter": "python",
   "pygments_lexer": "ipython3",
   "version": "3.12.7"
  }
 },
 "nbformat": 4,
 "nbformat_minor": 5
}
